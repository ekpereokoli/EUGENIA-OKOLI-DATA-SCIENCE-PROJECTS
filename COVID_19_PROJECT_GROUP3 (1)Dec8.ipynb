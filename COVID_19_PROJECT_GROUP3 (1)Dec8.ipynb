{
 "cells": [
  {
   "cell_type": "markdown",
   "id": "9496594c",
   "metadata": {
    "id": "9496594c"
   },
   "source": [
    "# COVID-19 Dataset\n",
    "COVID-19 patient's symptoms, status, and medical history."
   ]
  },
  {
   "cell_type": "markdown",
   "id": "15317fcc",
   "metadata": {
    "id": "15317fcc"
   },
   "source": [
    "#  About Dataset\n",
    "\n",
    "### Context\n",
    "Coronavirus disease (COVID-19) is an infectious disease caused by a newly discovered coronavirus. Most people infected with COVID-19 virus will experience mild to moderate respiratory illness and recover without requiring special treatment. \n",
    "- Older people, and those with underlying medical problems like cardiovascular disease, diabetes, chronic respiratory disease, and cancer are more likely to develop serious illness.\n",
    "- During the entire course of the pandemic, one of the main problems that healthcare providers have faced is the shortage of medical resources and a proper plan to efficiently distribute them. In these tough times, being able to predict what kind of resource an individual might require at the time of being tested positive or even before that will be of immense help to the authorities as they would be able to procure and arrange for the resources necessary to save the life of that patient.\n",
    "\n",
    "The main goal of this project is to build a machine learning model that, given a Covid-19 patient's current symptom, status, and medical history, will predict whether the patient is in high risk or not.\n",
    "\n",
    "### content\n",
    "The dataset was provided by the Mexican government (link). This dataset contains an enormous number of anonymized patient-related information including pre-conditions. The raw dataset consists of 21 unique features and 1,048,576 unique patients. - In the Boolean features, 1 means \"yes\" and 2 means \"no\". values as 97 and 99 are missing data.\n",
    "\n",
    "- sex: female or male\n",
    "- age: of the patient.\n",
    "- classification: covid test findings. Values 1-3 mean that the patient was diagnosed with covid in different\n",
    "degrees. 4 or higher means that the patient is not a carrier of covid or that the test is inconclusive.\n",
    "- patient type: hospitalized or not hospitalized.\n",
    "- pneumonia: whether the patient already have air sacs inflammation or not.\n",
    "- pregnancy: whether the patient is pregnant or not.\n",
    "- diabetes: whether the patient has diabetes or not.\n",
    "- copd: Indicates whether the patient has Chronic obstructive pulmonary disease or not.\n",
    "- asthma: whether the patient has asthma or not.\n",
    "- inmsupr: whether the patient is immunosuppressed or not.\n",
    "- hypertension: whether the patient has hypertension or not.\n",
    "- cardiovascular: whether the patient has heart or blood vessels related disease.\n",
    "- renal chronic: whether the patient has chronic renal disease or not.\n",
    "- other disease: whether the patient has other disease or not.\n",
    "- obesity: whether the patient is obese or not.\n",
    "- tobacco: whether the patient is a tobacco user.\n",
    "- usmr: Indicates whether the patient treated medical units of the first, second or third level.\n",
    "- medical unit: type of institution of the National Health System that provided the care.\n",
    "- intubed: whether the patient was connected to the ventilator.\n",
    "- icu: Indicates whether the patient had been admitted to an Intensive Care Unit.\n",
    "- death: indicates whether the patient died or recovered."
   ]
  },
  {
   "cell_type": "code",
   "execution_count": 1,
   "id": "5PX55VVp8zLF",
   "metadata": {
    "id": "5PX55VVp8zLF"
   },
   "outputs": [],
   "source": [
    "#!pip install matplotlib"
   ]
  },
  {
   "cell_type": "code",
   "execution_count": 1,
   "id": "8bac1040",
   "metadata": {
    "id": "8bac1040"
   },
   "outputs": [],
   "source": [
    "import numpy as np\n",
    "import pandas as pd\n",
    "import matplotlib.pyplot as plt\n",
    "import seaborn as sns\n",
    "\n",
    "pd.set_option('display.max_columns', None)\n",
    "pd.set_option('display.max_rows', 200)\n"
   ]
  },
  {
   "cell_type": "code",
   "execution_count": 2,
   "id": "Q9bTDaKVs3Dr",
   "metadata": {
    "colab": {
     "base_uri": "https://localhost:8080/"
    },
    "id": "Q9bTDaKVs3Dr",
    "outputId": "d17e603d-f9e1-4004-bd4c-56fa287907c3"
   },
   "outputs": [
    {
     "data": {
      "text/html": [
       "<div>\n",
       "<style scoped>\n",
       "    .dataframe tbody tr th:only-of-type {\n",
       "        vertical-align: middle;\n",
       "    }\n",
       "\n",
       "    .dataframe tbody tr th {\n",
       "        vertical-align: top;\n",
       "    }\n",
       "\n",
       "    .dataframe thead th {\n",
       "        text-align: right;\n",
       "    }\n",
       "</style>\n",
       "<table border=\"1\" class=\"dataframe\">\n",
       "  <thead>\n",
       "    <tr style=\"text-align: right;\">\n",
       "      <th></th>\n",
       "      <th>USMER</th>\n",
       "      <th>MEDICAL_UNIT</th>\n",
       "      <th>SEX</th>\n",
       "      <th>PATIENT_TYPE</th>\n",
       "      <th>DATE_DIED</th>\n",
       "      <th>INTUBED</th>\n",
       "      <th>PNEUMONIA</th>\n",
       "      <th>AGE</th>\n",
       "      <th>PREGNANT</th>\n",
       "      <th>DIABETES</th>\n",
       "      <th>COPD</th>\n",
       "      <th>ASTHMA</th>\n",
       "      <th>INMSUPR</th>\n",
       "      <th>HIPERTENSION</th>\n",
       "      <th>OTHER_DISEASE</th>\n",
       "      <th>CARDIOVASCULAR</th>\n",
       "      <th>OBESITY</th>\n",
       "      <th>RENAL_CHRONIC</th>\n",
       "      <th>TOBACCO</th>\n",
       "      <th>CLASIFFICATION_FINAL</th>\n",
       "      <th>ICU</th>\n",
       "    </tr>\n",
       "  </thead>\n",
       "  <tbody>\n",
       "    <tr>\n",
       "      <th>0</th>\n",
       "      <td>2</td>\n",
       "      <td>1</td>\n",
       "      <td>1</td>\n",
       "      <td>1</td>\n",
       "      <td>03/05/2020</td>\n",
       "      <td>97</td>\n",
       "      <td>1</td>\n",
       "      <td>65</td>\n",
       "      <td>2</td>\n",
       "      <td>2</td>\n",
       "      <td>2</td>\n",
       "      <td>2</td>\n",
       "      <td>2</td>\n",
       "      <td>1</td>\n",
       "      <td>2</td>\n",
       "      <td>2</td>\n",
       "      <td>2</td>\n",
       "      <td>2</td>\n",
       "      <td>2</td>\n",
       "      <td>3</td>\n",
       "      <td>97</td>\n",
       "    </tr>\n",
       "    <tr>\n",
       "      <th>1</th>\n",
       "      <td>2</td>\n",
       "      <td>1</td>\n",
       "      <td>2</td>\n",
       "      <td>1</td>\n",
       "      <td>03/06/2020</td>\n",
       "      <td>97</td>\n",
       "      <td>1</td>\n",
       "      <td>72</td>\n",
       "      <td>97</td>\n",
       "      <td>2</td>\n",
       "      <td>2</td>\n",
       "      <td>2</td>\n",
       "      <td>2</td>\n",
       "      <td>1</td>\n",
       "      <td>2</td>\n",
       "      <td>2</td>\n",
       "      <td>1</td>\n",
       "      <td>1</td>\n",
       "      <td>2</td>\n",
       "      <td>5</td>\n",
       "      <td>97</td>\n",
       "    </tr>\n",
       "    <tr>\n",
       "      <th>2</th>\n",
       "      <td>2</td>\n",
       "      <td>1</td>\n",
       "      <td>2</td>\n",
       "      <td>2</td>\n",
       "      <td>09/06/2020</td>\n",
       "      <td>1</td>\n",
       "      <td>2</td>\n",
       "      <td>55</td>\n",
       "      <td>97</td>\n",
       "      <td>1</td>\n",
       "      <td>2</td>\n",
       "      <td>2</td>\n",
       "      <td>2</td>\n",
       "      <td>2</td>\n",
       "      <td>2</td>\n",
       "      <td>2</td>\n",
       "      <td>2</td>\n",
       "      <td>2</td>\n",
       "      <td>2</td>\n",
       "      <td>3</td>\n",
       "      <td>2</td>\n",
       "    </tr>\n",
       "    <tr>\n",
       "      <th>3</th>\n",
       "      <td>2</td>\n",
       "      <td>1</td>\n",
       "      <td>1</td>\n",
       "      <td>1</td>\n",
       "      <td>12/06/2020</td>\n",
       "      <td>97</td>\n",
       "      <td>2</td>\n",
       "      <td>53</td>\n",
       "      <td>2</td>\n",
       "      <td>2</td>\n",
       "      <td>2</td>\n",
       "      <td>2</td>\n",
       "      <td>2</td>\n",
       "      <td>2</td>\n",
       "      <td>2</td>\n",
       "      <td>2</td>\n",
       "      <td>2</td>\n",
       "      <td>2</td>\n",
       "      <td>2</td>\n",
       "      <td>7</td>\n",
       "      <td>97</td>\n",
       "    </tr>\n",
       "    <tr>\n",
       "      <th>4</th>\n",
       "      <td>2</td>\n",
       "      <td>1</td>\n",
       "      <td>2</td>\n",
       "      <td>1</td>\n",
       "      <td>21/06/2020</td>\n",
       "      <td>97</td>\n",
       "      <td>2</td>\n",
       "      <td>68</td>\n",
       "      <td>97</td>\n",
       "      <td>1</td>\n",
       "      <td>2</td>\n",
       "      <td>2</td>\n",
       "      <td>2</td>\n",
       "      <td>1</td>\n",
       "      <td>2</td>\n",
       "      <td>2</td>\n",
       "      <td>2</td>\n",
       "      <td>2</td>\n",
       "      <td>2</td>\n",
       "      <td>3</td>\n",
       "      <td>97</td>\n",
       "    </tr>\n",
       "    <tr>\n",
       "      <th>...</th>\n",
       "      <td>...</td>\n",
       "      <td>...</td>\n",
       "      <td>...</td>\n",
       "      <td>...</td>\n",
       "      <td>...</td>\n",
       "      <td>...</td>\n",
       "      <td>...</td>\n",
       "      <td>...</td>\n",
       "      <td>...</td>\n",
       "      <td>...</td>\n",
       "      <td>...</td>\n",
       "      <td>...</td>\n",
       "      <td>...</td>\n",
       "      <td>...</td>\n",
       "      <td>...</td>\n",
       "      <td>...</td>\n",
       "      <td>...</td>\n",
       "      <td>...</td>\n",
       "      <td>...</td>\n",
       "      <td>...</td>\n",
       "      <td>...</td>\n",
       "    </tr>\n",
       "    <tr>\n",
       "      <th>1048570</th>\n",
       "      <td>2</td>\n",
       "      <td>13</td>\n",
       "      <td>2</td>\n",
       "      <td>1</td>\n",
       "      <td>9999-99-99</td>\n",
       "      <td>97</td>\n",
       "      <td>2</td>\n",
       "      <td>40</td>\n",
       "      <td>97</td>\n",
       "      <td>2</td>\n",
       "      <td>2</td>\n",
       "      <td>2</td>\n",
       "      <td>2</td>\n",
       "      <td>2</td>\n",
       "      <td>2</td>\n",
       "      <td>2</td>\n",
       "      <td>2</td>\n",
       "      <td>2</td>\n",
       "      <td>2</td>\n",
       "      <td>7</td>\n",
       "      <td>97</td>\n",
       "    </tr>\n",
       "    <tr>\n",
       "      <th>1048571</th>\n",
       "      <td>1</td>\n",
       "      <td>13</td>\n",
       "      <td>2</td>\n",
       "      <td>2</td>\n",
       "      <td>9999-99-99</td>\n",
       "      <td>2</td>\n",
       "      <td>2</td>\n",
       "      <td>51</td>\n",
       "      <td>97</td>\n",
       "      <td>2</td>\n",
       "      <td>2</td>\n",
       "      <td>2</td>\n",
       "      <td>2</td>\n",
       "      <td>1</td>\n",
       "      <td>2</td>\n",
       "      <td>2</td>\n",
       "      <td>2</td>\n",
       "      <td>2</td>\n",
       "      <td>2</td>\n",
       "      <td>7</td>\n",
       "      <td>2</td>\n",
       "    </tr>\n",
       "    <tr>\n",
       "      <th>1048572</th>\n",
       "      <td>2</td>\n",
       "      <td>13</td>\n",
       "      <td>2</td>\n",
       "      <td>1</td>\n",
       "      <td>9999-99-99</td>\n",
       "      <td>97</td>\n",
       "      <td>2</td>\n",
       "      <td>55</td>\n",
       "      <td>97</td>\n",
       "      <td>2</td>\n",
       "      <td>2</td>\n",
       "      <td>2</td>\n",
       "      <td>2</td>\n",
       "      <td>2</td>\n",
       "      <td>2</td>\n",
       "      <td>2</td>\n",
       "      <td>2</td>\n",
       "      <td>2</td>\n",
       "      <td>2</td>\n",
       "      <td>7</td>\n",
       "      <td>97</td>\n",
       "    </tr>\n",
       "    <tr>\n",
       "      <th>1048573</th>\n",
       "      <td>2</td>\n",
       "      <td>13</td>\n",
       "      <td>2</td>\n",
       "      <td>1</td>\n",
       "      <td>9999-99-99</td>\n",
       "      <td>97</td>\n",
       "      <td>2</td>\n",
       "      <td>28</td>\n",
       "      <td>97</td>\n",
       "      <td>2</td>\n",
       "      <td>2</td>\n",
       "      <td>2</td>\n",
       "      <td>2</td>\n",
       "      <td>2</td>\n",
       "      <td>2</td>\n",
       "      <td>2</td>\n",
       "      <td>2</td>\n",
       "      <td>2</td>\n",
       "      <td>2</td>\n",
       "      <td>7</td>\n",
       "      <td>97</td>\n",
       "    </tr>\n",
       "    <tr>\n",
       "      <th>1048574</th>\n",
       "      <td>2</td>\n",
       "      <td>13</td>\n",
       "      <td>2</td>\n",
       "      <td>1</td>\n",
       "      <td>9999-99-99</td>\n",
       "      <td>97</td>\n",
       "      <td>2</td>\n",
       "      <td>52</td>\n",
       "      <td>97</td>\n",
       "      <td>2</td>\n",
       "      <td>2</td>\n",
       "      <td>2</td>\n",
       "      <td>2</td>\n",
       "      <td>2</td>\n",
       "      <td>2</td>\n",
       "      <td>2</td>\n",
       "      <td>2</td>\n",
       "      <td>2</td>\n",
       "      <td>2</td>\n",
       "      <td>7</td>\n",
       "      <td>97</td>\n",
       "    </tr>\n",
       "  </tbody>\n",
       "</table>\n",
       "<p>1048575 rows × 21 columns</p>\n",
       "</div>"
      ],
      "text/plain": [
       "         USMER  MEDICAL_UNIT  SEX  PATIENT_TYPE   DATE_DIED  INTUBED  \\\n",
       "0            2             1    1             1  03/05/2020       97   \n",
       "1            2             1    2             1  03/06/2020       97   \n",
       "2            2             1    2             2  09/06/2020        1   \n",
       "3            2             1    1             1  12/06/2020       97   \n",
       "4            2             1    2             1  21/06/2020       97   \n",
       "...        ...           ...  ...           ...         ...      ...   \n",
       "1048570      2            13    2             1  9999-99-99       97   \n",
       "1048571      1            13    2             2  9999-99-99        2   \n",
       "1048572      2            13    2             1  9999-99-99       97   \n",
       "1048573      2            13    2             1  9999-99-99       97   \n",
       "1048574      2            13    2             1  9999-99-99       97   \n",
       "\n",
       "         PNEUMONIA  AGE  PREGNANT  DIABETES  COPD  ASTHMA  INMSUPR  \\\n",
       "0                1   65         2         2     2       2        2   \n",
       "1                1   72        97         2     2       2        2   \n",
       "2                2   55        97         1     2       2        2   \n",
       "3                2   53         2         2     2       2        2   \n",
       "4                2   68        97         1     2       2        2   \n",
       "...            ...  ...       ...       ...   ...     ...      ...   \n",
       "1048570          2   40        97         2     2       2        2   \n",
       "1048571          2   51        97         2     2       2        2   \n",
       "1048572          2   55        97         2     2       2        2   \n",
       "1048573          2   28        97         2     2       2        2   \n",
       "1048574          2   52        97         2     2       2        2   \n",
       "\n",
       "         HIPERTENSION  OTHER_DISEASE  CARDIOVASCULAR  OBESITY  RENAL_CHRONIC  \\\n",
       "0                   1              2               2        2              2   \n",
       "1                   1              2               2        1              1   \n",
       "2                   2              2               2        2              2   \n",
       "3                   2              2               2        2              2   \n",
       "4                   1              2               2        2              2   \n",
       "...               ...            ...             ...      ...            ...   \n",
       "1048570             2              2               2        2              2   \n",
       "1048571             1              2               2        2              2   \n",
       "1048572             2              2               2        2              2   \n",
       "1048573             2              2               2        2              2   \n",
       "1048574             2              2               2        2              2   \n",
       "\n",
       "         TOBACCO  CLASIFFICATION_FINAL  ICU  \n",
       "0              2                     3   97  \n",
       "1              2                     5   97  \n",
       "2              2                     3    2  \n",
       "3              2                     7   97  \n",
       "4              2                     3   97  \n",
       "...          ...                   ...  ...  \n",
       "1048570        2                     7   97  \n",
       "1048571        2                     7    2  \n",
       "1048572        2                     7   97  \n",
       "1048573        2                     7   97  \n",
       "1048574        2                     7   97  \n",
       "\n",
       "[1048575 rows x 21 columns]"
      ]
     },
     "execution_count": 2,
     "metadata": {},
     "output_type": "execute_result"
    }
   ],
   "source": [
    "df= pd.read_csv('Covid_Data.csv')\n",
    "df"
   ]
  },
  {
   "cell_type": "code",
   "execution_count": 3,
   "id": "436acbef",
   "metadata": {
    "colab": {
     "base_uri": "https://localhost:8080/"
    },
    "id": "436acbef",
    "outputId": "307ceff8-14db-4231-9687-74ac0d85f16f"
   },
   "outputs": [
    {
     "name": "stdout",
     "output_type": "stream",
     "text": [
      "<class 'pandas.core.frame.DataFrame'>\n",
      "RangeIndex: 1048575 entries, 0 to 1048574\n",
      "Data columns (total 21 columns):\n",
      " #   Column                Non-Null Count    Dtype \n",
      "---  ------                --------------    ----- \n",
      " 0   USMER                 1048575 non-null  int64 \n",
      " 1   MEDICAL_UNIT          1048575 non-null  int64 \n",
      " 2   SEX                   1048575 non-null  int64 \n",
      " 3   PATIENT_TYPE          1048575 non-null  int64 \n",
      " 4   DATE_DIED             1048575 non-null  object\n",
      " 5   INTUBED               1048575 non-null  int64 \n",
      " 6   PNEUMONIA             1048575 non-null  int64 \n",
      " 7   AGE                   1048575 non-null  int64 \n",
      " 8   PREGNANT              1048575 non-null  int64 \n",
      " 9   DIABETES              1048575 non-null  int64 \n",
      " 10  COPD                  1048575 non-null  int64 \n",
      " 11  ASTHMA                1048575 non-null  int64 \n",
      " 12  INMSUPR               1048575 non-null  int64 \n",
      " 13  HIPERTENSION          1048575 non-null  int64 \n",
      " 14  OTHER_DISEASE         1048575 non-null  int64 \n",
      " 15  CARDIOVASCULAR        1048575 non-null  int64 \n",
      " 16  OBESITY               1048575 non-null  int64 \n",
      " 17  RENAL_CHRONIC         1048575 non-null  int64 \n",
      " 18  TOBACCO               1048575 non-null  int64 \n",
      " 19  CLASIFFICATION_FINAL  1048575 non-null  int64 \n",
      " 20  ICU                   1048575 non-null  int64 \n",
      "dtypes: int64(20), object(1)\n",
      "memory usage: 168.0+ MB\n"
     ]
    }
   ],
   "source": [
    "df.info()"
   ]
  },
  {
   "cell_type": "code",
   "execution_count": 4,
   "id": "f643e471",
   "metadata": {
    "colab": {
     "base_uri": "https://localhost:8080/"
    },
    "id": "f643e471",
    "outputId": "9507cd39-52c5-4ec1-802d-cd09135ae671"
   },
   "outputs": [
    {
     "data": {
      "text/plain": [
       "USMER                   0\n",
       "MEDICAL_UNIT            0\n",
       "SEX                     0\n",
       "PATIENT_TYPE            0\n",
       "DATE_DIED               0\n",
       "INTUBED                 0\n",
       "PNEUMONIA               0\n",
       "AGE                     0\n",
       "PREGNANT                0\n",
       "DIABETES                0\n",
       "COPD                    0\n",
       "ASTHMA                  0\n",
       "INMSUPR                 0\n",
       "HIPERTENSION            0\n",
       "OTHER_DISEASE           0\n",
       "CARDIOVASCULAR          0\n",
       "OBESITY                 0\n",
       "RENAL_CHRONIC           0\n",
       "TOBACCO                 0\n",
       "CLASIFFICATION_FINAL    0\n",
       "ICU                     0\n",
       "dtype: int64"
      ]
     },
     "execution_count": 4,
     "metadata": {},
     "output_type": "execute_result"
    }
   ],
   "source": [
    "df.isnull().sum()"
   ]
  },
  {
   "cell_type": "code",
   "execution_count": null,
   "id": "ae87a6bf",
   "metadata": {
    "id": "ae87a6bf"
   },
   "outputs": [],
   "source": [
    "#df['DATE_DIED']= pd.to_datetime(df['DATE_DIED'])\n",
    "#df.info()"
   ]
  },
  {
   "cell_type": "code",
   "execution_count": 5,
   "id": "bd7a51ac",
   "metadata": {
    "colab": {
     "base_uri": "https://localhost:8080/"
    },
    "id": "bd7a51ac",
    "outputId": "7327a92d-012e-4c5e-9df1-2253db2fe077"
   },
   "outputs": [
    {
     "data": {
      "text/plain": [
       "9999-99-99    971633\n",
       "06/07/2020      1000\n",
       "07/07/2020       996\n",
       "13/07/2020       990\n",
       "16/06/2020       979\n",
       "               ...  \n",
       "24/11/2020         1\n",
       "17/12/2020         1\n",
       "08/12/2020         1\n",
       "16/03/2021         1\n",
       "22/04/2021         1\n",
       "Name: DATE_DIED, Length: 401, dtype: int64"
      ]
     },
     "execution_count": 5,
     "metadata": {},
     "output_type": "execute_result"
    }
   ],
   "source": [
    "df['DATE_DIED'] .value_counts()"
   ]
  },
  {
   "cell_type": "markdown",
   "id": "1d33012d",
   "metadata": {
    "id": "1d33012d"
   },
   "source": [
    "### DATA PREPROCESSING"
   ]
  },
  {
   "cell_type": "code",
   "execution_count": 6,
   "id": "b454688e",
   "metadata": {
    "colab": {
     "base_uri": "https://localhost:8080/"
    },
    "id": "b454688e",
    "outputId": "3c8102df-93f1-459a-897a-c3a5e3ebf2c5"
   },
   "outputs": [
    {
     "name": "stdout",
     "output_type": "stream",
     "text": [
      "There are 20 numerical variables \n",
      "\n",
      "These are: ['USMER', 'MEDICAL_UNIT', 'SEX', 'PATIENT_TYPE', 'INTUBED', 'PNEUMONIA', 'AGE', 'PREGNANT', 'DIABETES', 'COPD', 'ASTHMA', 'INMSUPR', 'HIPERTENSION', 'OTHER_DISEASE', 'CARDIOVASCULAR', 'OBESITY', 'RENAL_CHRONIC', 'TOBACCO', 'CLASIFFICATION_FINAL', 'ICU']\n"
     ]
    }
   ],
   "source": [
    "numerical = [var for var in df.columns if df[var].dtype != 'object']\n",
    "\n",
    "print('There are {} numerical variables \\n'.format(len(numerical)))\n",
    "\n",
    "print('These are:', numerical)"
   ]
  },
  {
   "cell_type": "code",
   "execution_count": 7,
   "id": "afd17bbe",
   "metadata": {
    "colab": {
     "base_uri": "https://localhost:8080/"
    },
    "id": "afd17bbe",
    "outputId": "06004611-9279-45de-d350-98e8e7099c74"
   },
   "outputs": [
    {
     "name": "stdout",
     "output_type": "stream",
     "text": [
      "USMER contains 2 unique values\n",
      "MEDICAL_UNIT contains 13 unique values\n",
      "SEX contains 2 unique values\n",
      "PATIENT_TYPE contains 2 unique values\n",
      "INTUBED contains 4 unique values\n",
      "PNEUMONIA contains 3 unique values\n",
      "AGE contains 121 unique values\n",
      "PREGNANT contains 4 unique values\n",
      "DIABETES contains 3 unique values\n",
      "COPD contains 3 unique values\n",
      "ASTHMA contains 3 unique values\n",
      "INMSUPR contains 3 unique values\n",
      "HIPERTENSION contains 3 unique values\n",
      "OTHER_DISEASE contains 3 unique values\n",
      "CARDIOVASCULAR contains 3 unique values\n",
      "OBESITY contains 3 unique values\n",
      "RENAL_CHRONIC contains 3 unique values\n",
      "TOBACCO contains 3 unique values\n",
      "CLASIFFICATION_FINAL contains 7 unique values\n",
      "ICU contains 4 unique values\n"
     ]
    }
   ],
   "source": [
    "#Using a for loop to obtain the count values of the numerical data\n",
    "for var in numerical:\n",
    "    print(var, 'contains', len(df[var].unique()), 'unique values')"
   ]
  },
  {
   "cell_type": "code",
   "execution_count": 8,
   "id": "cb95d16e",
   "metadata": {
    "colab": {
     "base_uri": "https://localhost:8080/"
    },
    "id": "cb95d16e",
    "outputId": "f5b79a65-7538-429e-f2bf-0bea227f2afd"
   },
   "outputs": [
    {
     "data": {
      "text/plain": [
       "['USMER',\n",
       " 'MEDICAL_UNIT',\n",
       " 'SEX',\n",
       " 'PATIENT_TYPE',\n",
       " 'DATE_DIED',\n",
       " 'INTUBED',\n",
       " 'PNEUMONIA',\n",
       " 'AGE',\n",
       " 'PREGNANT',\n",
       " 'DIABETES',\n",
       " 'COPD',\n",
       " 'ASTHMA',\n",
       " 'INMSUPR',\n",
       " 'HIPERTENSION',\n",
       " 'OTHER_DISEASE',\n",
       " 'CARDIOVASCULAR',\n",
       " 'OBESITY',\n",
       " 'RENAL_CHRONIC',\n",
       " 'TOBACCO',\n",
       " 'CLASIFFICATION_FINAL',\n",
       " 'ICU']"
      ]
     },
     "execution_count": 8,
     "metadata": {},
     "output_type": "execute_result"
    }
   ],
   "source": [
    "df.columns.to_list()"
   ]
  },
  {
   "cell_type": "code",
   "execution_count": 9,
   "id": "44eadf2d",
   "metadata": {
    "colab": {
     "base_uri": "https://localhost:8080/"
    },
    "id": "44eadf2d",
    "outputId": "e941a9c6-7caf-4195-c5d6-2601b523e0aa"
   },
   "outputs": [
    {
     "name": "stdout",
     "output_type": "stream",
     "text": [
      "SEX 1    525064\n",
      "2    523511\n",
      "Name: SEX, dtype: int64\n",
      "PATIENT_TYPE 1    848544\n",
      "2    200031\n",
      "Name: PATIENT_TYPE, dtype: int64\n",
      "INTUBED 97    848544\n",
      "2     159050\n",
      "1      33656\n",
      "99      7325\n",
      "Name: INTUBED, dtype: int64\n",
      "PNEUMONIA 2     892534\n",
      "1     140038\n",
      "99     16003\n",
      "Name: PNEUMONIA, dtype: int64\n",
      "PREGNANT 97    523511\n",
      "2     513179\n",
      "1       8131\n",
      "98      3754\n",
      "Name: PREGNANT, dtype: int64\n",
      "DIABETES 2     920248\n",
      "1     124989\n",
      "98      3338\n",
      "Name: DIABETES, dtype: int64\n",
      "COPD 2     1030510\n",
      "1       15062\n",
      "98       3003\n",
      "Name: COPD, dtype: int64\n",
      "ASTHMA 2     1014024\n",
      "1       31572\n",
      "98       2979\n",
      "Name: ASTHMA, dtype: int64\n",
      "INMSUPR 2     1031001\n",
      "1       14170\n",
      "98       3404\n",
      "Name: INMSUPR, dtype: int64\n",
      "HIPERTENSION 2     882742\n",
      "1     162729\n",
      "98      3104\n",
      "Name: HIPERTENSION, dtype: int64\n",
      "OTHER_DISEASE 2     1015490\n",
      "1       28040\n",
      "98       5045\n",
      "Name: OTHER_DISEASE, dtype: int64\n",
      "OBESITY 2     885727\n",
      "1     159816\n",
      "98      3032\n",
      "Name: OBESITY, dtype: int64\n",
      "RENAL_CHRONIC 2     1026665\n",
      "1       18904\n",
      "98       3006\n",
      "Name: RENAL_CHRONIC, dtype: int64\n",
      "TOBACCO 2     960979\n",
      "1      84376\n",
      "98      3220\n",
      "Name: TOBACCO, dtype: int64\n",
      "ICU 97    848544\n",
      "2     175685\n",
      "1      16858\n",
      "99      7488\n",
      "Name: ICU, dtype: int64\n"
     ]
    }
   ],
   "source": [
    "selected_columns = ['SEX', 'PATIENT_TYPE','INTUBED', 'PNEUMONIA', 'PREGNANT', 'DIABETES', 'COPD', 'ASTHMA',\n",
    "                    'INMSUPR', 'HIPERTENSION', 'OTHER_DISEASE', 'OBESITY', 'RENAL_CHRONIC',\n",
    "                     'TOBACCO', 'ICU' ]\n",
    "for var in selected_columns:\n",
    "    print(var, df[var].value_counts())"
   ]
  },
  {
   "cell_type": "markdown",
   "id": "4c2f1089",
   "metadata": {
    "id": "4c2f1089"
   },
   "source": [
    "#### First, investigating the columns with 4 unique values as opposed to the expected 2 values."
   ]
  },
  {
   "cell_type": "code",
   "execution_count": 10,
   "id": "a8990226",
   "metadata": {
    "colab": {
     "base_uri": "https://localhost:8080/",
     "height": 405
    },
    "id": "a8990226",
    "outputId": "26843bad-b27b-4f30-c01b-56df4d96f130"
   },
   "outputs": [
    {
     "name": "stderr",
     "output_type": "stream",
     "text": [
      "C:\\Users\\USER\\anaconda3\\lib\\site-packages\\seaborn\\_decorators.py:36: FutureWarning: Pass the following variable as a keyword arg: x. From version 0.12, the only valid positional argument will be `data`, and passing other arguments without an explicit keyword will result in an error or misinterpretation.\n",
      "  warnings.warn(\n"
     ]
    },
    {
     "data": {
      "image/png": "[encoded data removed]",
      "text/plain": [
       "<Figure size 576x360 with 1 Axes>"
      ]
     },
     "metadata": {
      "needs_background": "light"
     },
     "output_type": "display_data"
    }
   ],
   "source": [
    "plt.figure(figsize = (8,5))\n",
    "ax = sns.countplot(df.SEX, hue = df.PREGNANT)\n",
    "for bars in ax.containers:\n",
    "    ax.bar_label(bars)\n",
    "plt.title(\"PREGNANCIES - SEX\", fontsize = 12);"
   ]
  },
  {
   "cell_type": "code",
   "execution_count": null,
   "id": "43d2d039",
   "metadata": {
    "id": "43d2d039"
   },
   "outputs": [],
   "source": [
    "df.PREGNANT = df.PREGNANT.replace(97, 2)\n",
    "df.PREGNANT = df.PREGNANT.replace(98, 2)"
   ]
  },
  {
   "cell_type": "code",
   "execution_count": null,
   "id": "2f1fa5ef",
   "metadata": {
    "colab": {
     "base_uri": "https://localhost:8080/"
    },
    "id": "2f1fa5ef",
    "outputId": "d437d05d-0d81-49f2-a2a0-26b2ac0a223a"
   },
   "outputs": [],
   "source": [
    "df.PREGNANT.value_counts()"
   ]
  },
  {
   "cell_type": "code",
   "execution_count": 13,
   "id": "zi3nf5o29jRa",
   "metadata": {
    "id": "zi3nf5o29jRa"
   },
   "outputs": [
    {
     "name": "stdout",
     "output_type": "stream",
     "text": [
      "<class 'pandas.core.frame.DataFrame'>\n",
      "Int64Index: 525064 entries, 0 to 1048569\n",
      "Data columns (total 21 columns):\n",
      " #   Column                Non-Null Count   Dtype \n",
      "---  ------                --------------   ----- \n",
      " 0   USMER                 525064 non-null  int64 \n",
      " 1   MEDICAL_UNIT          525064 non-null  int64 \n",
      " 2   SEX                   525064 non-null  int64 \n",
      " 3   PATIENT_TYPE          525064 non-null  int64 \n",
      " 4   DATE_DIED             525064 non-null  object\n",
      " 5   INTUBED               525064 non-null  int64 \n",
      " 6   PNEUMONIA             525064 non-null  int64 \n",
      " 7   AGE                   525064 non-null  int64 \n",
      " 8   PREGNANT              525064 non-null  int64 \n",
      " 9   DIABETES              525064 non-null  int64 \n",
      " 10  COPD                  525064 non-null  int64 \n",
      " 11  ASTHMA                525064 non-null  int64 \n",
      " 12  INMSUPR               525064 non-null  int64 \n",
      " 13  HIPERTENSION          525064 non-null  int64 \n",
      " 14  OTHER_DISEASE         525064 non-null  int64 \n",
      " 15  CARDIOVASCULAR        525064 non-null  int64 \n",
      " 16  OBESITY               525064 non-null  int64 \n",
      " 17  RENAL_CHRONIC         525064 non-null  int64 \n",
      " 18  TOBACCO               525064 non-null  int64 \n",
      " 19  CLASIFFICATION_FINAL  525064 non-null  int64 \n",
      " 20  ICU                   525064 non-null  int64 \n",
      "dtypes: int64(20), object(1)\n",
      "memory usage: 88.1+ MB\n"
     ]
    }
   ],
   "source": [
    "df_female = df[df.SEX == 1]\n",
    "df_female.info()"
   ]
  },
  {
   "cell_type": "code",
   "execution_count": 14,
   "id": "nVrhCgPT90g7",
   "metadata": {
    "colab": {
     "base_uri": "https://localhost:8080/",
     "height": 405
    },
    "id": "nVrhCgPT90g7",
    "outputId": "c5f45dcf-2a62-4748-f15f-68af01b6017e"
   },
   "outputs": [
    {
     "name": "stderr",
     "output_type": "stream",
     "text": [
      "C:\\Users\\USER\\anaconda3\\lib\\site-packages\\seaborn\\_decorators.py:36: FutureWarning: Pass the following variable as a keyword arg: x. From version 0.12, the only valid positional argument will be `data`, and passing other arguments without an explicit keyword will result in an error or misinterpretation.\n",
      "  warnings.warn(\n"
     ]
    },
    {
     "data": {
      "image/png": "[encoded data removed]",
      "text/plain": [
       "<Figure size 576x360 with 1 Axes>"
      ]
     },
     "metadata": {
      "needs_background": "light"
     },
     "output_type": "display_data"
    }
   ],
   "source": [
    "plt.figure(figsize = (8,5))\n",
    "ax = sns.countplot(df_female.PREGNANT)\n",
    "for bars in ax.containers:\n",
    "    ax.bar_label(bars)\n",
    "plt.title(\"Pregnant Vs Non Pregnant Female\", fontsize = 12);"
   ]
  },
  {
   "cell_type": "markdown",
   "id": "4bq8HERQ-KXC",
   "metadata": {
    "id": "4bq8HERQ-KXC"
   },
   "source": [
    "# **Make Pie Plot**"
   ]
  },
  {
   "cell_type": "markdown",
   "id": "b069b919",
   "metadata": {
    "id": "b069b919"
   },
   "source": [
    "#### From the graph above, we noted that the gender male(2) which is colour coded 97 when considering pregancies is apt because males do not get pregnant. Among the female gender (1), we have colur code red with value 3,754 which are missing values for the pregnant status of these females. \n",
    "- So, we replaced the apparently non-pregnant males with 2 (not pregnant) and the few missing pregnancy status of the females with 2 (not pregnant) due to the mode of the categorical females being non-pregnant (513,179).\n",
    "- Here, the sex and pregnancy features are independent variables."
   ]
  },
  {
   "cell_type": "code",
   "execution_count": 15,
   "id": "009b953c",
   "metadata": {
    "colab": {
     "base_uri": "https://localhost:8080/",
     "height": 351
    },
    "id": "009b953c",
    "outputId": "77e06460-7747-4e5e-d3bd-7a78ccae0373"
   },
   "outputs": [
    {
     "name": "stderr",
     "output_type": "stream",
     "text": [
      "C:\\Users\\USER\\anaconda3\\lib\\site-packages\\seaborn\\_decorators.py:36: FutureWarning: Pass the following variable as a keyword arg: x. From version 0.12, the only valid positional argument will be `data`, and passing other arguments without an explicit keyword will result in an error or misinterpretation.\n",
      "  warnings.warn(\n"
     ]
    },
    {
     "data": {
      "image/png": "[encoded data removed]",
      "text/plain": [
       "<Figure size 432x288 with 1 Axes>"
      ]
     },
     "metadata": {
      "needs_background": "light"
     },
     "output_type": "display_data"
    }
   ],
   "source": [
    "plt.figure()\n",
    "ax = sns.countplot(df.PATIENT_TYPE, hue = df.INTUBED)\n",
    "for bars in ax.containers:\n",
    "    ax.bar_label(bars)\n",
    "plt.title(\"HOSPITALIZED - INTUBED\");"
   ]
  },
  {
   "cell_type": "markdown",
   "id": "93d7894d",
   "metadata": {
    "id": "93d7894d"
   },
   "source": [
    "###### We believe there is a sort of mix-up in the definition for the patient_type column. \n",
    "- So, we opine that patient_type_1 means not hospitalized which is reasonable with the context provided that Coronavirus disease (COVID-19) is an infectious disease in which most people infected with COVID-19 virus will experience mild to moderate respiratory illness and recover without requiring special treatment.\n",
    "- Also, it is not really feasible for non-hospitalized patients to be intubed. Hence the patient_type_2 here means hospitalized patient which are now categorized into intubed patients(33 656), those that were hospitalized but not intubed (159 050) and then the missing data (7 325).\n",
    "- The missing data can then be replaced with the modal option which is not intubed(2)"
   ]
  },
  {
   "cell_type": "code",
   "execution_count": null,
   "id": "0893c36d",
   "metadata": {
    "id": "0893c36d"
   },
   "outputs": [],
   "source": [
    "df.INTUBED = df.INTUBED.replace(97, 2)\n",
    "df.INTUBED = df.INTUBED.replace(99, 2)"
   ]
  },
  {
   "cell_type": "code",
   "execution_count": null,
   "id": "c650b99d",
   "metadata": {
    "colab": {
     "base_uri": "https://localhost:8080/"
    },
    "id": "c650b99d",
    "outputId": "7eba2fe4-7735-462e-c6a3-b7306b52c672"
   },
   "outputs": [],
   "source": [
    "df.INTUBED.value_counts()"
   ]
  },
  {
   "cell_type": "code",
   "execution_count": null,
   "id": "7b9bdec2",
   "metadata": {
    "colab": {
     "base_uri": "https://localhost:8080/",
     "height": 351
    },
    "id": "7b9bdec2",
    "outputId": "5d58128f-a4c3-434e-fbeb-4aa47ccb51d8"
   },
   "outputs": [],
   "source": [
    "plt.figure()\n",
    "ax = sns.countplot(df.PATIENT_TYPE, hue = df.ICU)\n",
    "for bars in ax.containers:\n",
    "    ax.bar_label(bars)\n",
    "plt.title(\"HOSPITALIZED - ICU\");"
   ]
  },
  {
   "cell_type": "markdown",
   "id": "07385324",
   "metadata": {
    "id": "07385324"
   },
   "source": [
    "###### Having determined previously that the patient_type_1 is for non-hospitalized patients. The data in this ICU further corroborates this argument. \n",
    "- So, for patient_type_2 which were hospitalized, we have 16 858 which were in the ICU, while 175 685 were not in the ICU.\n",
    "- The missing data here is 7 488 for the ICU status of the patients that were hospitalized. We replace this with the mode which means not in ICU. This is further supported by the argument that most COVID-19 patients do not require an ICU."
   ]
  },
  {
   "cell_type": "code",
   "execution_count": null,
   "id": "45a122d0",
   "metadata": {
    "id": "45a122d0"
   },
   "outputs": [],
   "source": [
    "df.ICU = df.ICU.replace(97, 2)\n",
    "df.ICU = df.ICU.replace(99, 2)"
   ]
  },
  {
   "cell_type": "code",
   "execution_count": null,
   "id": "e9842dc2",
   "metadata": {
    "colab": {
     "base_uri": "https://localhost:8080/"
    },
    "id": "e9842dc2",
    "outputId": "1428999f-3fa9-4cb4-b0c4-9a75e07ce15d"
   },
   "outputs": [],
   "source": [
    "df.ICU.value_counts()"
   ]
  },
  {
   "cell_type": "code",
   "execution_count": 16,
   "id": "c67eb75f",
   "metadata": {
    "colab": {
     "base_uri": "https://localhost:8080/"
    },
    "id": "c67eb75f",
    "outputId": "1d97ad09-073b-4ed6-db7d-7ef82bf11d9d"
   },
   "outputs": [
    {
     "data": {
      "text/plain": [
       "7    499250\n",
       "3    381527\n",
       "6    128133\n",
       "5     26091\n",
       "1      8601\n",
       "4      3122\n",
       "2      1851\n",
       "Name: CLASIFFICATION_FINAL, dtype: int64"
      ]
     },
     "execution_count": 16,
     "metadata": {},
     "output_type": "execute_result"
    }
   ],
   "source": [
    "df.CLASIFFICATION_FINAL.value_counts()"
   ]
  },
  {
   "cell_type": "code",
   "execution_count": 24,
   "id": "73fZKRPi328P",
   "metadata": {
    "id": "73fZKRPi328P"
   },
   "outputs": [],
   "source": [
    "# We are replacing the non-covid patients with 0\n",
    "covid_positive= df.CLASIFFICATION_FINAL.replace([4,5,6,7], 2)\n",
    "covid_positive= df.CLASIFFICATION_FINAL.replace([1,2,3],1)"
   ]
  },
  {
   "cell_type": "code",
   "execution_count": 25,
   "id": "cb310ce8",
   "metadata": {},
   "outputs": [
    {
     "data": {
      "text/plain": [
       "0          1\n",
       "1          0\n",
       "2          1\n",
       "3          0\n",
       "4          1\n",
       "          ..\n",
       "1048570    0\n",
       "1048571    0\n",
       "1048572    0\n",
       "1048573    0\n",
       "1048574    0\n",
       "Name: CLASIFFICATION_FINAL, Length: 1048575, dtype: int64"
      ]
     },
     "execution_count": 25,
     "metadata": {},
     "output_type": "execute_result"
    }
   ],
   "source": [
    "covid_positive"
   ]
  },
  {
   "cell_type": "code",
   "execution_count": 23,
   "id": "KISaUfbV66HZ",
   "metadata": {
    "colab": {
     "base_uri": "https://localhost:8080/"
    },
    "id": "KISaUfbV66HZ",
    "outputId": "1919f024-9cf8-404e-c6a8-15b4d5594646"
   },
   "outputs": [
    {
     "data": {
      "text/plain": [
       "0    656596\n",
       "1    391979\n",
       "Name: CLASIFFICATION_FINAL, dtype: int64"
      ]
     },
     "execution_count": 23,
     "metadata": {},
     "output_type": "execute_result"
    }
   ],
   "source": [
    "df.CLASIFFICATION_FINAL.value_counts()"
   ]
  },
  {
   "cell_type": "code",
   "execution_count": 26,
   "id": "7lQ1u7aF8G7O",
   "metadata": {
    "colab": {
     "base_uri": "https://localhost:8080/",
     "height": 574
    },
    "id": "7lQ1u7aF8G7O",
    "outputId": "ee759517-b431-4dd1-8e5c-922a0f7abf19"
   },
   "outputs": [
    {
     "data": {
      "text/html": [
       "<div>\n",
       "<style scoped>\n",
       "    .dataframe tbody tr th:only-of-type {\n",
       "        vertical-align: middle;\n",
       "    }\n",
       "\n",
       "    .dataframe tbody tr th {\n",
       "        vertical-align: top;\n",
       "    }\n",
       "\n",
       "    .dataframe thead th {\n",
       "        text-align: right;\n",
       "    }\n",
       "</style>\n",
       "<table border=\"1\" class=\"dataframe\">\n",
       "  <thead>\n",
       "    <tr style=\"text-align: right;\">\n",
       "      <th></th>\n",
       "      <th>USMER</th>\n",
       "      <th>MEDICAL_UNIT</th>\n",
       "      <th>SEX</th>\n",
       "      <th>PATIENT_TYPE</th>\n",
       "      <th>DATE_DIED</th>\n",
       "      <th>INTUBED</th>\n",
       "      <th>PNEUMONIA</th>\n",
       "      <th>AGE</th>\n",
       "      <th>PREGNANT</th>\n",
       "      <th>DIABETES</th>\n",
       "      <th>COPD</th>\n",
       "      <th>ASTHMA</th>\n",
       "      <th>INMSUPR</th>\n",
       "      <th>HIPERTENSION</th>\n",
       "      <th>OTHER_DISEASE</th>\n",
       "      <th>CARDIOVASCULAR</th>\n",
       "      <th>OBESITY</th>\n",
       "      <th>RENAL_CHRONIC</th>\n",
       "      <th>TOBACCO</th>\n",
       "      <th>CLASIFFICATION_FINAL</th>\n",
       "      <th>ICU</th>\n",
       "      <th>Covid</th>\n",
       "    </tr>\n",
       "  </thead>\n",
       "  <tbody>\n",
       "    <tr>\n",
       "      <th>0</th>\n",
       "      <td>2</td>\n",
       "      <td>1</td>\n",
       "      <td>1</td>\n",
       "      <td>1</td>\n",
       "      <td>03/05/2020</td>\n",
       "      <td>97</td>\n",
       "      <td>1</td>\n",
       "      <td>65</td>\n",
       "      <td>2</td>\n",
       "      <td>2</td>\n",
       "      <td>2</td>\n",
       "      <td>2</td>\n",
       "      <td>2</td>\n",
       "      <td>1</td>\n",
       "      <td>2</td>\n",
       "      <td>2</td>\n",
       "      <td>2</td>\n",
       "      <td>2</td>\n",
       "      <td>2</td>\n",
       "      <td>1</td>\n",
       "      <td>97</td>\n",
       "      <td>1</td>\n",
       "    </tr>\n",
       "    <tr>\n",
       "      <th>1</th>\n",
       "      <td>2</td>\n",
       "      <td>1</td>\n",
       "      <td>2</td>\n",
       "      <td>1</td>\n",
       "      <td>03/06/2020</td>\n",
       "      <td>97</td>\n",
       "      <td>1</td>\n",
       "      <td>72</td>\n",
       "      <td>97</td>\n",
       "      <td>2</td>\n",
       "      <td>2</td>\n",
       "      <td>2</td>\n",
       "      <td>2</td>\n",
       "      <td>1</td>\n",
       "      <td>2</td>\n",
       "      <td>2</td>\n",
       "      <td>1</td>\n",
       "      <td>1</td>\n",
       "      <td>2</td>\n",
       "      <td>0</td>\n",
       "      <td>97</td>\n",
       "      <td>0</td>\n",
       "    </tr>\n",
       "    <tr>\n",
       "      <th>2</th>\n",
       "      <td>2</td>\n",
       "      <td>1</td>\n",
       "      <td>2</td>\n",
       "      <td>2</td>\n",
       "      <td>09/06/2020</td>\n",
       "      <td>1</td>\n",
       "      <td>2</td>\n",
       "      <td>55</td>\n",
       "      <td>97</td>\n",
       "      <td>1</td>\n",
       "      <td>2</td>\n",
       "      <td>2</td>\n",
       "      <td>2</td>\n",
       "      <td>2</td>\n",
       "      <td>2</td>\n",
       "      <td>2</td>\n",
       "      <td>2</td>\n",
       "      <td>2</td>\n",
       "      <td>2</td>\n",
       "      <td>1</td>\n",
       "      <td>2</td>\n",
       "      <td>1</td>\n",
       "    </tr>\n",
       "    <tr>\n",
       "      <th>3</th>\n",
       "      <td>2</td>\n",
       "      <td>1</td>\n",
       "      <td>1</td>\n",
       "      <td>1</td>\n",
       "      <td>12/06/2020</td>\n",
       "      <td>97</td>\n",
       "      <td>2</td>\n",
       "      <td>53</td>\n",
       "      <td>2</td>\n",
       "      <td>2</td>\n",
       "      <td>2</td>\n",
       "      <td>2</td>\n",
       "      <td>2</td>\n",
       "      <td>2</td>\n",
       "      <td>2</td>\n",
       "      <td>2</td>\n",
       "      <td>2</td>\n",
       "      <td>2</td>\n",
       "      <td>2</td>\n",
       "      <td>0</td>\n",
       "      <td>97</td>\n",
       "      <td>0</td>\n",
       "    </tr>\n",
       "    <tr>\n",
       "      <th>4</th>\n",
       "      <td>2</td>\n",
       "      <td>1</td>\n",
       "      <td>2</td>\n",
       "      <td>1</td>\n",
       "      <td>21/06/2020</td>\n",
       "      <td>97</td>\n",
       "      <td>2</td>\n",
       "      <td>68</td>\n",
       "      <td>97</td>\n",
       "      <td>1</td>\n",
       "      <td>2</td>\n",
       "      <td>2</td>\n",
       "      <td>2</td>\n",
       "      <td>1</td>\n",
       "      <td>2</td>\n",
       "      <td>2</td>\n",
       "      <td>2</td>\n",
       "      <td>2</td>\n",
       "      <td>2</td>\n",
       "      <td>1</td>\n",
       "      <td>97</td>\n",
       "      <td>1</td>\n",
       "    </tr>\n",
       "    <tr>\n",
       "      <th>...</th>\n",
       "      <td>...</td>\n",
       "      <td>...</td>\n",
       "      <td>...</td>\n",
       "      <td>...</td>\n",
       "      <td>...</td>\n",
       "      <td>...</td>\n",
       "      <td>...</td>\n",
       "      <td>...</td>\n",
       "      <td>...</td>\n",
       "      <td>...</td>\n",
       "      <td>...</td>\n",
       "      <td>...</td>\n",
       "      <td>...</td>\n",
       "      <td>...</td>\n",
       "      <td>...</td>\n",
       "      <td>...</td>\n",
       "      <td>...</td>\n",
       "      <td>...</td>\n",
       "      <td>...</td>\n",
       "      <td>...</td>\n",
       "      <td>...</td>\n",
       "      <td>...</td>\n",
       "    </tr>\n",
       "    <tr>\n",
       "      <th>1048570</th>\n",
       "      <td>2</td>\n",
       "      <td>13</td>\n",
       "      <td>2</td>\n",
       "      <td>1</td>\n",
       "      <td>9999-99-99</td>\n",
       "      <td>97</td>\n",
       "      <td>2</td>\n",
       "      <td>40</td>\n",
       "      <td>97</td>\n",
       "      <td>2</td>\n",
       "      <td>2</td>\n",
       "      <td>2</td>\n",
       "      <td>2</td>\n",
       "      <td>2</td>\n",
       "      <td>2</td>\n",
       "      <td>2</td>\n",
       "      <td>2</td>\n",
       "      <td>2</td>\n",
       "      <td>2</td>\n",
       "      <td>0</td>\n",
       "      <td>97</td>\n",
       "      <td>0</td>\n",
       "    </tr>\n",
       "    <tr>\n",
       "      <th>1048571</th>\n",
       "      <td>1</td>\n",
       "      <td>13</td>\n",
       "      <td>2</td>\n",
       "      <td>2</td>\n",
       "      <td>9999-99-99</td>\n",
       "      <td>2</td>\n",
       "      <td>2</td>\n",
       "      <td>51</td>\n",
       "      <td>97</td>\n",
       "      <td>2</td>\n",
       "      <td>2</td>\n",
       "      <td>2</td>\n",
       "      <td>2</td>\n",
       "      <td>1</td>\n",
       "      <td>2</td>\n",
       "      <td>2</td>\n",
       "      <td>2</td>\n",
       "      <td>2</td>\n",
       "      <td>2</td>\n",
       "      <td>0</td>\n",
       "      <td>2</td>\n",
       "      <td>0</td>\n",
       "    </tr>\n",
       "    <tr>\n",
       "      <th>1048572</th>\n",
       "      <td>2</td>\n",
       "      <td>13</td>\n",
       "      <td>2</td>\n",
       "      <td>1</td>\n",
       "      <td>9999-99-99</td>\n",
       "      <td>97</td>\n",
       "      <td>2</td>\n",
       "      <td>55</td>\n",
       "      <td>97</td>\n",
       "      <td>2</td>\n",
       "      <td>2</td>\n",
       "      <td>2</td>\n",
       "      <td>2</td>\n",
       "      <td>2</td>\n",
       "      <td>2</td>\n",
       "      <td>2</td>\n",
       "      <td>2</td>\n",
       "      <td>2</td>\n",
       "      <td>2</td>\n",
       "      <td>0</td>\n",
       "      <td>97</td>\n",
       "      <td>0</td>\n",
       "    </tr>\n",
       "    <tr>\n",
       "      <th>1048573</th>\n",
       "      <td>2</td>\n",
       "      <td>13</td>\n",
       "      <td>2</td>\n",
       "      <td>1</td>\n",
       "      <td>9999-99-99</td>\n",
       "      <td>97</td>\n",
       "      <td>2</td>\n",
       "      <td>28</td>\n",
       "      <td>97</td>\n",
       "      <td>2</td>\n",
       "      <td>2</td>\n",
       "      <td>2</td>\n",
       "      <td>2</td>\n",
       "      <td>2</td>\n",
       "      <td>2</td>\n",
       "      <td>2</td>\n",
       "      <td>2</td>\n",
       "      <td>2</td>\n",
       "      <td>2</td>\n",
       "      <td>0</td>\n",
       "      <td>97</td>\n",
       "      <td>0</td>\n",
       "    </tr>\n",
       "    <tr>\n",
       "      <th>1048574</th>\n",
       "      <td>2</td>\n",
       "      <td>13</td>\n",
       "      <td>2</td>\n",
       "      <td>1</td>\n",
       "      <td>9999-99-99</td>\n",
       "      <td>97</td>\n",
       "      <td>2</td>\n",
       "      <td>52</td>\n",
       "      <td>97</td>\n",
       "      <td>2</td>\n",
       "      <td>2</td>\n",
       "      <td>2</td>\n",
       "      <td>2</td>\n",
       "      <td>2</td>\n",
       "      <td>2</td>\n",
       "      <td>2</td>\n",
       "      <td>2</td>\n",
       "      <td>2</td>\n",
       "      <td>2</td>\n",
       "      <td>0</td>\n",
       "      <td>97</td>\n",
       "      <td>0</td>\n",
       "    </tr>\n",
       "  </tbody>\n",
       "</table>\n",
       "<p>1048575 rows × 22 columns</p>\n",
       "</div>"
      ],
      "text/plain": [
       "         USMER  MEDICAL_UNIT  SEX  PATIENT_TYPE   DATE_DIED  INTUBED  \\\n",
       "0            2             1    1             1  03/05/2020       97   \n",
       "1            2             1    2             1  03/06/2020       97   \n",
       "2            2             1    2             2  09/06/2020        1   \n",
       "3            2             1    1             1  12/06/2020       97   \n",
       "4            2             1    2             1  21/06/2020       97   \n",
       "...        ...           ...  ...           ...         ...      ...   \n",
       "1048570      2            13    2             1  9999-99-99       97   \n",
       "1048571      1            13    2             2  9999-99-99        2   \n",
       "1048572      2            13    2             1  9999-99-99       97   \n",
       "1048573      2            13    2             1  9999-99-99       97   \n",
       "1048574      2            13    2             1  9999-99-99       97   \n",
       "\n",
       "         PNEUMONIA  AGE  PREGNANT  DIABETES  COPD  ASTHMA  INMSUPR  \\\n",
       "0                1   65         2         2     2       2        2   \n",
       "1                1   72        97         2     2       2        2   \n",
       "2                2   55        97         1     2       2        2   \n",
       "3                2   53         2         2     2       2        2   \n",
       "4                2   68        97         1     2       2        2   \n",
       "...            ...  ...       ...       ...   ...     ...      ...   \n",
       "1048570          2   40        97         2     2       2        2   \n",
       "1048571          2   51        97         2     2       2        2   \n",
       "1048572          2   55        97         2     2       2        2   \n",
       "1048573          2   28        97         2     2       2        2   \n",
       "1048574          2   52        97         2     2       2        2   \n",
       "\n",
       "         HIPERTENSION  OTHER_DISEASE  CARDIOVASCULAR  OBESITY  RENAL_CHRONIC  \\\n",
       "0                   1              2               2        2              2   \n",
       "1                   1              2               2        1              1   \n",
       "2                   2              2               2        2              2   \n",
       "3                   2              2               2        2              2   \n",
       "4                   1              2               2        2              2   \n",
       "...               ...            ...             ...      ...            ...   \n",
       "1048570             2              2               2        2              2   \n",
       "1048571             1              2               2        2              2   \n",
       "1048572             2              2               2        2              2   \n",
       "1048573             2              2               2        2              2   \n",
       "1048574             2              2               2        2              2   \n",
       "\n",
       "         TOBACCO  CLASIFFICATION_FINAL  ICU  Covid  \n",
       "0              2                     1   97      1  \n",
       "1              2                     0   97      0  \n",
       "2              2                     1    2      1  \n",
       "3              2                     0   97      0  \n",
       "4              2                     1   97      1  \n",
       "...          ...                   ...  ...    ...  \n",
       "1048570        2                     0   97      0  \n",
       "1048571        2                     0    2      0  \n",
       "1048572        2                     0   97      0  \n",
       "1048573        2                     0   97      0  \n",
       "1048574        2                     0   97      0  \n",
       "\n",
       "[1048575 rows x 22 columns]"
      ]
     },
     "execution_count": 26,
     "metadata": {},
     "output_type": "execute_result"
    }
   ],
   "source": [
    "# Creating new column for covid of No-covid (0), covid (1)\n",
    "\n",
    "\n",
    "def covid_positive(val):\n",
    "    if val == 0:\n",
    "        return 0\n",
    "    else : \n",
    "        return 1\n",
    "\n",
    "\n",
    "df['Covid'] = df['CLASIFFICATION_FINAL'].map(covid_positive)\n",
    "\n",
    "df"
   ]
  },
  {
   "cell_type": "code",
   "execution_count": 27,
   "id": "m1ip1Hml67t-",
   "metadata": {
    "colab": {
     "base_uri": "https://localhost:8080/",
     "height": 410
    },
    "id": "m1ip1Hml67t-",
    "outputId": "09519a19-9b28-47eb-f36b-b0c940c91235"
   },
   "outputs": [
    {
     "name": "stderr",
     "output_type": "stream",
     "text": [
      "C:\\Users\\USER\\anaconda3\\lib\\site-packages\\seaborn\\_decorators.py:36: FutureWarning: Pass the following variable as a keyword arg: x. From version 0.12, the only valid positional argument will be `data`, and passing other arguments without an explicit keyword will result in an error or misinterpretation.\n",
      "  warnings.warn(\n"
     ]
    },
    {
     "data": {
      "image/png": "[encoded data removed]",
      "text/plain": [
       "<Figure size 576x360 with 1 Axes>"
      ]
     },
     "metadata": {
      "needs_background": "light"
     },
     "output_type": "display_data"
    }
   ],
   "source": [
    "plt.figure(figsize = (8,5))\n",
    "ax = sns.countplot(df.Covid)\n",
    "for bars in ax.containers:\n",
    "    ax.bar_label(bars)\n",
    "plt.title(\"COUNT OF COVID AND NOT COVIDS\", fontsize = 20);"
   ]
  },
  {
   "cell_type": "code",
   "execution_count": null,
   "id": "sfJyBOlD7ubd",
   "metadata": {
    "id": "sfJyBOlD7ubd"
   },
   "outputs": [],
   "source": []
  },
  {
   "cell_type": "code",
   "execution_count": 28,
   "id": "ad0308c7",
   "metadata": {
    "colab": {
     "base_uri": "https://localhost:8080/",
     "height": 351
    },
    "id": "ad0308c7",
    "outputId": "2cc76d72-8b90-42d8-b547-1d51f576b51e"
   },
   "outputs": [
    {
     "name": "stderr",
     "output_type": "stream",
     "text": [
      "C:\\Users\\USER\\anaconda3\\lib\\site-packages\\seaborn\\_decorators.py:36: FutureWarning: Pass the following variable as a keyword arg: x. From version 0.12, the only valid positional argument will be `data`, and passing other arguments without an explicit keyword will result in an error or misinterpretation.\n",
      "  warnings.warn(\n"
     ]
    },
    {
     "data": {
      "image/png": "[encoded data removed]",
      "text/plain": [
       "<Figure size 432x288 with 1 Axes>"
      ]
     },
     "metadata": {
      "needs_background": "light"
     },
     "output_type": "display_data"
    }
   ],
   "source": [
    "plt.figure()\n",
    "ax = sns.countplot(df.PATIENT_TYPE, hue = df.PNEUMONIA)\n",
    "for bars in ax.containers:\n",
    "    ax.bar_label(bars)\n",
    "plt.title(\"HOSPITALIZED - PNEUMONIA\");"
   ]
  },
  {
   "cell_type": "code",
   "execution_count": null,
   "id": "cc4dac0b",
   "metadata": {
    "colab": {
     "base_uri": "https://localhost:8080/",
     "height": 351
    },
    "id": "cc4dac0b",
    "outputId": "70cba7d6-07c9-4dd9-dd3f-1b471767e006"
   },
   "outputs": [],
   "source": [
    "plt.figure()\n",
    "ax = sns.countplot(df.CLASIFFICATION_FINAL, hue = df.PNEUMONIA)\n",
    "for bars in ax.containers:\n",
    "    ax.bar_label(bars)\n",
    "plt.title(\"COVID COUNT - PNEUMONIA\");"
   ]
  },
  {
   "cell_type": "code",
   "execution_count": null,
   "id": "sECQel-BwjGX",
   "metadata": {
    "colab": {
     "base_uri": "https://localhost:8080/",
     "height": 574
    },
    "id": "sECQel-BwjGX",
    "outputId": "8d66ce24-3d34-407d-9e5e-81b4c186779f"
   },
   "outputs": [],
   "source": [
    "df"
   ]
  },
  {
   "cell_type": "code",
   "execution_count": 29,
   "id": "c0c1a2b1",
   "metadata": {
    "colab": {
     "base_uri": "https://localhost:8080/",
     "height": 574
    },
    "id": "c0c1a2b1",
    "outputId": "92cf10dd-9326-42ba-f0d4-b16d717e46cc"
   },
   "outputs": [
    {
     "data": {
      "text/html": [
       "<div>\n",
       "<style scoped>\n",
       "    .dataframe tbody tr th:only-of-type {\n",
       "        vertical-align: middle;\n",
       "    }\n",
       "\n",
       "    .dataframe tbody tr th {\n",
       "        vertical-align: top;\n",
       "    }\n",
       "\n",
       "    .dataframe thead th {\n",
       "        text-align: right;\n",
       "    }\n",
       "</style>\n",
       "<table border=\"1\" class=\"dataframe\">\n",
       "  <thead>\n",
       "    <tr style=\"text-align: right;\">\n",
       "      <th></th>\n",
       "      <th>USMER</th>\n",
       "      <th>MEDICAL_UNIT</th>\n",
       "      <th>SEX</th>\n",
       "      <th>PATIENT_TYPE</th>\n",
       "      <th>DATE_DIED</th>\n",
       "      <th>INTUBED</th>\n",
       "      <th>PNEUMONIA</th>\n",
       "      <th>AGE</th>\n",
       "      <th>PREGNANT</th>\n",
       "      <th>DIABETES</th>\n",
       "      <th>COPD</th>\n",
       "      <th>ASTHMA</th>\n",
       "      <th>INMSUPR</th>\n",
       "      <th>HIPERTENSION</th>\n",
       "      <th>OTHER_DISEASE</th>\n",
       "      <th>CARDIOVASCULAR</th>\n",
       "      <th>OBESITY</th>\n",
       "      <th>RENAL_CHRONIC</th>\n",
       "      <th>TOBACCO</th>\n",
       "      <th>CLASIFFICATION_FINAL</th>\n",
       "      <th>ICU</th>\n",
       "      <th>Covid</th>\n",
       "      <th>DEATH</th>\n",
       "    </tr>\n",
       "  </thead>\n",
       "  <tbody>\n",
       "    <tr>\n",
       "      <th>0</th>\n",
       "      <td>2</td>\n",
       "      <td>1</td>\n",
       "      <td>1</td>\n",
       "      <td>1</td>\n",
       "      <td>03/05/2020</td>\n",
       "      <td>97</td>\n",
       "      <td>1</td>\n",
       "      <td>65</td>\n",
       "      <td>2</td>\n",
       "      <td>2</td>\n",
       "      <td>2</td>\n",
       "      <td>2</td>\n",
       "      <td>2</td>\n",
       "      <td>1</td>\n",
       "      <td>2</td>\n",
       "      <td>2</td>\n",
       "      <td>2</td>\n",
       "      <td>2</td>\n",
       "      <td>2</td>\n",
       "      <td>1</td>\n",
       "      <td>97</td>\n",
       "      <td>1</td>\n",
       "      <td>1</td>\n",
       "    </tr>\n",
       "    <tr>\n",
       "      <th>1</th>\n",
       "      <td>2</td>\n",
       "      <td>1</td>\n",
       "      <td>2</td>\n",
       "      <td>1</td>\n",
       "      <td>03/06/2020</td>\n",
       "      <td>97</td>\n",
       "      <td>1</td>\n",
       "      <td>72</td>\n",
       "      <td>97</td>\n",
       "      <td>2</td>\n",
       "      <td>2</td>\n",
       "      <td>2</td>\n",
       "      <td>2</td>\n",
       "      <td>1</td>\n",
       "      <td>2</td>\n",
       "      <td>2</td>\n",
       "      <td>1</td>\n",
       "      <td>1</td>\n",
       "      <td>2</td>\n",
       "      <td>0</td>\n",
       "      <td>97</td>\n",
       "      <td>0</td>\n",
       "      <td>1</td>\n",
       "    </tr>\n",
       "    <tr>\n",
       "      <th>2</th>\n",
       "      <td>2</td>\n",
       "      <td>1</td>\n",
       "      <td>2</td>\n",
       "      <td>2</td>\n",
       "      <td>09/06/2020</td>\n",
       "      <td>1</td>\n",
       "      <td>2</td>\n",
       "      <td>55</td>\n",
       "      <td>97</td>\n",
       "      <td>1</td>\n",
       "      <td>2</td>\n",
       "      <td>2</td>\n",
       "      <td>2</td>\n",
       "      <td>2</td>\n",
       "      <td>2</td>\n",
       "      <td>2</td>\n",
       "      <td>2</td>\n",
       "      <td>2</td>\n",
       "      <td>2</td>\n",
       "      <td>1</td>\n",
       "      <td>2</td>\n",
       "      <td>1</td>\n",
       "      <td>1</td>\n",
       "    </tr>\n",
       "    <tr>\n",
       "      <th>3</th>\n",
       "      <td>2</td>\n",
       "      <td>1</td>\n",
       "      <td>1</td>\n",
       "      <td>1</td>\n",
       "      <td>12/06/2020</td>\n",
       "      <td>97</td>\n",
       "      <td>2</td>\n",
       "      <td>53</td>\n",
       "      <td>2</td>\n",
       "      <td>2</td>\n",
       "      <td>2</td>\n",
       "      <td>2</td>\n",
       "      <td>2</td>\n",
       "      <td>2</td>\n",
       "      <td>2</td>\n",
       "      <td>2</td>\n",
       "      <td>2</td>\n",
       "      <td>2</td>\n",
       "      <td>2</td>\n",
       "      <td>0</td>\n",
       "      <td>97</td>\n",
       "      <td>0</td>\n",
       "      <td>1</td>\n",
       "    </tr>\n",
       "    <tr>\n",
       "      <th>4</th>\n",
       "      <td>2</td>\n",
       "      <td>1</td>\n",
       "      <td>2</td>\n",
       "      <td>1</td>\n",
       "      <td>21/06/2020</td>\n",
       "      <td>97</td>\n",
       "      <td>2</td>\n",
       "      <td>68</td>\n",
       "      <td>97</td>\n",
       "      <td>1</td>\n",
       "      <td>2</td>\n",
       "      <td>2</td>\n",
       "      <td>2</td>\n",
       "      <td>1</td>\n",
       "      <td>2</td>\n",
       "      <td>2</td>\n",
       "      <td>2</td>\n",
       "      <td>2</td>\n",
       "      <td>2</td>\n",
       "      <td>1</td>\n",
       "      <td>97</td>\n",
       "      <td>1</td>\n",
       "      <td>1</td>\n",
       "    </tr>\n",
       "    <tr>\n",
       "      <th>...</th>\n",
       "      <td>...</td>\n",
       "      <td>...</td>\n",
       "      <td>...</td>\n",
       "      <td>...</td>\n",
       "      <td>...</td>\n",
       "      <td>...</td>\n",
       "      <td>...</td>\n",
       "      <td>...</td>\n",
       "      <td>...</td>\n",
       "      <td>...</td>\n",
       "      <td>...</td>\n",
       "      <td>...</td>\n",
       "      <td>...</td>\n",
       "      <td>...</td>\n",
       "      <td>...</td>\n",
       "      <td>...</td>\n",
       "      <td>...</td>\n",
       "      <td>...</td>\n",
       "      <td>...</td>\n",
       "      <td>...</td>\n",
       "      <td>...</td>\n",
       "      <td>...</td>\n",
       "      <td>...</td>\n",
       "    </tr>\n",
       "    <tr>\n",
       "      <th>1048570</th>\n",
       "      <td>2</td>\n",
       "      <td>13</td>\n",
       "      <td>2</td>\n",
       "      <td>1</td>\n",
       "      <td>9999-99-99</td>\n",
       "      <td>97</td>\n",
       "      <td>2</td>\n",
       "      <td>40</td>\n",
       "      <td>97</td>\n",
       "      <td>2</td>\n",
       "      <td>2</td>\n",
       "      <td>2</td>\n",
       "      <td>2</td>\n",
       "      <td>2</td>\n",
       "      <td>2</td>\n",
       "      <td>2</td>\n",
       "      <td>2</td>\n",
       "      <td>2</td>\n",
       "      <td>2</td>\n",
       "      <td>0</td>\n",
       "      <td>97</td>\n",
       "      <td>0</td>\n",
       "      <td>0</td>\n",
       "    </tr>\n",
       "    <tr>\n",
       "      <th>1048571</th>\n",
       "      <td>1</td>\n",
       "      <td>13</td>\n",
       "      <td>2</td>\n",
       "      <td>2</td>\n",
       "      <td>9999-99-99</td>\n",
       "      <td>2</td>\n",
       "      <td>2</td>\n",
       "      <td>51</td>\n",
       "      <td>97</td>\n",
       "      <td>2</td>\n",
       "      <td>2</td>\n",
       "      <td>2</td>\n",
       "      <td>2</td>\n",
       "      <td>1</td>\n",
       "      <td>2</td>\n",
       "      <td>2</td>\n",
       "      <td>2</td>\n",
       "      <td>2</td>\n",
       "      <td>2</td>\n",
       "      <td>0</td>\n",
       "      <td>2</td>\n",
       "      <td>0</td>\n",
       "      <td>0</td>\n",
       "    </tr>\n",
       "    <tr>\n",
       "      <th>1048572</th>\n",
       "      <td>2</td>\n",
       "      <td>13</td>\n",
       "      <td>2</td>\n",
       "      <td>1</td>\n",
       "      <td>9999-99-99</td>\n",
       "      <td>97</td>\n",
       "      <td>2</td>\n",
       "      <td>55</td>\n",
       "      <td>97</td>\n",
       "      <td>2</td>\n",
       "      <td>2</td>\n",
       "      <td>2</td>\n",
       "      <td>2</td>\n",
       "      <td>2</td>\n",
       "      <td>2</td>\n",
       "      <td>2</td>\n",
       "      <td>2</td>\n",
       "      <td>2</td>\n",
       "      <td>2</td>\n",
       "      <td>0</td>\n",
       "      <td>97</td>\n",
       "      <td>0</td>\n",
       "      <td>0</td>\n",
       "    </tr>\n",
       "    <tr>\n",
       "      <th>1048573</th>\n",
       "      <td>2</td>\n",
       "      <td>13</td>\n",
       "      <td>2</td>\n",
       "      <td>1</td>\n",
       "      <td>9999-99-99</td>\n",
       "      <td>97</td>\n",
       "      <td>2</td>\n",
       "      <td>28</td>\n",
       "      <td>97</td>\n",
       "      <td>2</td>\n",
       "      <td>2</td>\n",
       "      <td>2</td>\n",
       "      <td>2</td>\n",
       "      <td>2</td>\n",
       "      <td>2</td>\n",
       "      <td>2</td>\n",
       "      <td>2</td>\n",
       "      <td>2</td>\n",
       "      <td>2</td>\n",
       "      <td>0</td>\n",
       "      <td>97</td>\n",
       "      <td>0</td>\n",
       "      <td>0</td>\n",
       "    </tr>\n",
       "    <tr>\n",
       "      <th>1048574</th>\n",
       "      <td>2</td>\n",
       "      <td>13</td>\n",
       "      <td>2</td>\n",
       "      <td>1</td>\n",
       "      <td>9999-99-99</td>\n",
       "      <td>97</td>\n",
       "      <td>2</td>\n",
       "      <td>52</td>\n",
       "      <td>97</td>\n",
       "      <td>2</td>\n",
       "      <td>2</td>\n",
       "      <td>2</td>\n",
       "      <td>2</td>\n",
       "      <td>2</td>\n",
       "      <td>2</td>\n",
       "      <td>2</td>\n",
       "      <td>2</td>\n",
       "      <td>2</td>\n",
       "      <td>2</td>\n",
       "      <td>0</td>\n",
       "      <td>97</td>\n",
       "      <td>0</td>\n",
       "      <td>0</td>\n",
       "    </tr>\n",
       "  </tbody>\n",
       "</table>\n",
       "<p>1048575 rows × 23 columns</p>\n",
       "</div>"
      ],
      "text/plain": [
       "         USMER  MEDICAL_UNIT  SEX  PATIENT_TYPE   DATE_DIED  INTUBED  \\\n",
       "0            2             1    1             1  03/05/2020       97   \n",
       "1            2             1    2             1  03/06/2020       97   \n",
       "2            2             1    2             2  09/06/2020        1   \n",
       "3            2             1    1             1  12/06/2020       97   \n",
       "4            2             1    2             1  21/06/2020       97   \n",
       "...        ...           ...  ...           ...         ...      ...   \n",
       "1048570      2            13    2             1  9999-99-99       97   \n",
       "1048571      1            13    2             2  9999-99-99        2   \n",
       "1048572      2            13    2             1  9999-99-99       97   \n",
       "1048573      2            13    2             1  9999-99-99       97   \n",
       "1048574      2            13    2             1  9999-99-99       97   \n",
       "\n",
       "         PNEUMONIA  AGE  PREGNANT  DIABETES  COPD  ASTHMA  INMSUPR  \\\n",
       "0                1   65         2         2     2       2        2   \n",
       "1                1   72        97         2     2       2        2   \n",
       "2                2   55        97         1     2       2        2   \n",
       "3                2   53         2         2     2       2        2   \n",
       "4                2   68        97         1     2       2        2   \n",
       "...            ...  ...       ...       ...   ...     ...      ...   \n",
       "1048570          2   40        97         2     2       2        2   \n",
       "1048571          2   51        97         2     2       2        2   \n",
       "1048572          2   55        97         2     2       2        2   \n",
       "1048573          2   28        97         2     2       2        2   \n",
       "1048574          2   52        97         2     2       2        2   \n",
       "\n",
       "         HIPERTENSION  OTHER_DISEASE  CARDIOVASCULAR  OBESITY  RENAL_CHRONIC  \\\n",
       "0                   1              2               2        2              2   \n",
       "1                   1              2               2        1              1   \n",
       "2                   2              2               2        2              2   \n",
       "3                   2              2               2        2              2   \n",
       "4                   1              2               2        2              2   \n",
       "...               ...            ...             ...      ...            ...   \n",
       "1048570             2              2               2        2              2   \n",
       "1048571             1              2               2        2              2   \n",
       "1048572             2              2               2        2              2   \n",
       "1048573             2              2               2        2              2   \n",
       "1048574             2              2               2        2              2   \n",
       "\n",
       "         TOBACCO  CLASIFFICATION_FINAL  ICU  Covid  DEATH  \n",
       "0              2                     1   97      1      1  \n",
       "1              2                     0   97      0      1  \n",
       "2              2                     1    2      1      1  \n",
       "3              2                     0   97      0      1  \n",
       "4              2                     1   97      1      1  \n",
       "...          ...                   ...  ...    ...    ...  \n",
       "1048570        2                     0   97      0      0  \n",
       "1048571        2                     0    2      0      0  \n",
       "1048572        2                     0   97      0      0  \n",
       "1048573        2                     0   97      0      0  \n",
       "1048574        2                     0   97      0      0  \n",
       "\n",
       "[1048575 rows x 23 columns]"
      ]
     },
     "execution_count": 29,
     "metadata": {},
     "output_type": "execute_result"
    }
   ],
   "source": [
    "# Creating new column for type of Recovery (0), Death (1)\n",
    "\n",
    "\n",
    "def death_numbers(val):\n",
    "    if val == '9999-99-99':\n",
    "        return 0\n",
    "    else : \n",
    "        return 1\n",
    "\n",
    "\n",
    "df['DEATH'] = df['DATE_DIED'].map(death_numbers)\n",
    "\n",
    "df"
   ]
  },
  {
   "cell_type": "code",
   "execution_count": null,
   "id": "vvFHaeTZw1i_",
   "metadata": {
    "id": "vvFHaeTZw1i_"
   },
   "outputs": [],
   "source": [
    "df_death = df[df.DEATH == 1]\n"
   ]
  },
  {
   "cell_type": "code",
   "execution_count": null,
   "id": "ix2ureWCxQ3e",
   "metadata": {
    "id": "ix2ureWCxQ3e"
   },
   "outputs": [],
   "source": [
    "df = df.drop('DATE_DIED', axis = 1)"
   ]
  },
  {
   "cell_type": "code",
   "execution_count": null,
   "id": "wH2FzbDVxy4X",
   "metadata": {
    "colab": {
     "base_uri": "https://localhost:8080/",
     "height": 488
    },
    "id": "wH2FzbDVxy4X",
    "outputId": "9c3ea7cf-643f-49ad-9e61-1f5082464cf9"
   },
   "outputs": [],
   "source": [
    "df"
   ]
  },
  {
   "cell_type": "code",
   "execution_count": null,
   "id": "5RivGJGBx_EU",
   "metadata": {
    "colab": {
     "base_uri": "https://localhost:8080/",
     "height": 488
    },
    "id": "5RivGJGBx_EU",
    "outputId": "315d8c08-68e7-4f08-dd7b-7dedd6cc8078"
   },
   "outputs": [],
   "source": [
    "df_death"
   ]
  },
  {
   "cell_type": "code",
   "execution_count": null,
   "id": "CdbWkokt0EOx",
   "metadata": {
    "colab": {
     "base_uri": "https://localhost:8080/"
    },
    "id": "CdbWkokt0EOx",
    "outputId": "8760ec33-750f-4b7b-cc5f-5471de48adfe"
   },
   "outputs": [],
   "source": [
    "df_death.info()"
   ]
  },
  {
   "cell_type": "code",
   "execution_count": null,
   "id": "9ohiyvPLz6gS",
   "metadata": {
    "colab": {
     "base_uri": "https://localhost:8080/"
    },
    "id": "9ohiyvPLz6gS",
    "outputId": "7a2aab12-7e65-4bce-ec15-8f6923b17197"
   },
   "outputs": [],
   "source": [
    "time_col = 'DATE_DIED'\n",
    "df_death['DATE_DIED'] = pd.to_datetime(df_death.DATE_DIED, dayfirst=True, yearfirst=True, format=\"%d/%m/%Y\")"
   ]
  },
  {
   "cell_type": "code",
   "execution_count": null,
   "id": "xdZSoLFi2AIN",
   "metadata": {
    "colab": {
     "base_uri": "https://localhost:8080/"
    },
    "id": "xdZSoLFi2AIN",
    "outputId": "08591700-a0d0-4d08-ebde-a6eaf2bd84d5"
   },
   "outputs": [],
   "source": [
    "df_death.info()"
   ]
  },
  {
   "cell_type": "code",
   "execution_count": null,
   "id": "veYVTyyyhaws",
   "metadata": {
    "colab": {
     "base_uri": "https://localhost:8080/"
    },
    "id": "veYVTyyyhaws",
    "outputId": "8c475e16-67e1-4dde-80b4-76f1c14832cd"
   },
   "outputs": [],
   "source": [
    "#extract the year \n",
    "\n",
    "df_death['Year'] = df_death['DATE_DIED'].dt.year\n",
    "df_death['Year'] = df_death['DATE_DIED'].dt.year"
   ]
  },
  {
   "cell_type": "code",
   "execution_count": null,
   "id": "sDHW97FajOhy",
   "metadata": {
    "colab": {
     "base_uri": "https://localhost:8080/"
    },
    "id": "sDHW97FajOhy",
    "outputId": "3d6697c6-1990-4f1d-ebd4-69bc61dd20d8"
   },
   "outputs": [],
   "source": [
    "#extract the month \n",
    "df_death['Month'] = df_death['DATE_DIED'].dt.month\n",
    "df_death['Month'] = df_death['DATE_DIED'].dt.month"
   ]
  },
  {
   "cell_type": "code",
   "execution_count": null,
   "id": "s_ekHrVejXeR",
   "metadata": {
    "colab": {
     "base_uri": "https://localhost:8080/",
     "height": 565
    },
    "id": "s_ekHrVejXeR",
    "outputId": "1953aa50-37a3-467e-9f08-6885255764a8"
   },
   "outputs": [],
   "source": [
    "#extract the day\n",
    "df_death['Day'] = df_death['DATE_DIED'].dt.day\n",
    "df_death['Day'] = df_death['DATE_DIED'].dt.day\n",
    "\n",
    "df_death.head()"
   ]
  },
  {
   "cell_type": "code",
   "execution_count": null,
   "id": "8UvW779wyEsN",
   "metadata": {
    "colab": {
     "base_uri": "https://localhost:8080/",
     "height": 355
    },
    "id": "8UvW779wyEsN",
    "outputId": "83dc6696-1316-4f07-dcda-c7ee1e4c46d0"
   },
   "outputs": [],
   "source": [
    "plt.figure(figsize = (8,5))\n",
    "ax = sns.countplot(x = \"Month\", hue = \"PATIENT_TYPE\", data = df_death)\n",
    "plt.title(\"Death Of COVID By Month in Hoepitalized and non hospiatlized patients\", fontsize = 20)\n",
    "for bars in ax.containers:\n",
    "    ax.bar_label(bars)"
   ]
  },
  {
   "cell_type": "code",
   "execution_count": null,
   "id": "83JVEJ0ZyZR_",
   "metadata": {
    "colab": {
     "base_uri": "https://localhost:8080/"
    },
    "id": "83JVEJ0ZyZR_",
    "outputId": "97898853-ffb3-443a-e299-213b45bbaedd"
   },
   "outputs": [],
   "source": [
    "time_data = df_death.resample('M', on = time_col)['DEATH'].count().fillna(0)\n",
    "time_data"
   ]
  },
  {
   "cell_type": "code",
   "execution_count": null,
   "id": "Gzge0wqj58pS",
   "metadata": {
    "colab": {
     "base_uri": "https://localhost:8080/",
     "height": 355
    },
    "id": "Gzge0wqj58pS",
    "outputId": "13f5a9db-1dec-4207-d29a-5dea960720d4"
   },
   "outputs": [],
   "source": [
    "plt.figure(figsize = (8,5))\n",
    "ax = sns.countplot(x = \"Year\", hue = \"PATIENT_TYPE\", data = df_death)\n",
    "plt.title(\"Death Of COVID By Year in Hoepitalized and non hospiatlized patients\", fontsize = 20)\n",
    "for bars in ax.containers:\n",
    "    ax.bar_label(bars)"
   ]
  },
  {
   "cell_type": "code",
   "execution_count": null,
   "id": "YZ_JlIoYzyec",
   "metadata": {
    "colab": {
     "base_uri": "https://localhost:8080/",
     "height": 499
    },
    "id": "YZ_JlIoYzyec",
    "outputId": "29e778e3-5aea-4746-beed-de5bae489f0a"
   },
   "outputs": [],
   "source": [
    "fig, ax = plt.subplots(figsize = (15,8))\n",
    "ax.plot(time_data)\n",
    "plt.title('Deaths per Month');"
   ]
  },
  {
   "cell_type": "code",
   "execution_count": null,
   "id": "e5c7b7c7",
   "metadata": {},
   "outputs": [],
   "source": [
    "df.columns"
   ]
  },
  {
   "cell_type": "code",
   "execution_count": null,
   "id": "8d30d4b8",
   "metadata": {},
   "outputs": [],
   "source": [
    "df.isnull().sum()"
   ]
  },
  {
   "cell_type": "code",
   "execution_count": null,
   "id": "bc2b9e0c",
   "metadata": {},
   "outputs": [],
   "source": [
    "df=df.dropna(axis=0)\n"
   ]
  },
  {
   "cell_type": "code",
   "execution_count": null,
   "id": "c8fbb126",
   "metadata": {},
   "outputs": [],
   "source": [
    "df.isnull().sum()"
   ]
  },
  {
   "cell_type": "code",
   "execution_count": null,
   "id": "8fc519c8",
   "metadata": {},
   "outputs": [],
   "source": [
    "X = df.drop(['DEATH','Covid'],axis =1)\n",
    "y= df['DEATH']"
   ]
  },
  {
   "cell_type": "code",
   "execution_count": null,
   "id": "0c8a7e5d",
   "metadata": {},
   "outputs": [],
   "source": []
  },
  {
   "cell_type": "code",
   "execution_count": null,
   "id": "2fcd1737",
   "metadata": {},
   "outputs": [],
   "source": [
    "#split into test and train data\n",
    "\n",
    "from sklearn.model_selection import train_test_split\n",
    "\n",
    "X_train, X_test, y_train, y_test = train_test_split(X, y, test_size=0.2, random_state= 1)"
   ]
  },
  {
   "cell_type": "code",
   "execution_count": null,
   "id": "c7841113",
   "metadata": {},
   "outputs": [],
   "source": [
    "X_train.shape, X_test.shape"
   ]
  },
  {
   "cell_type": "code",
   "execution_count": null,
   "id": "dc72cc7d",
   "metadata": {},
   "outputs": [],
   "source": [
    "X_train.columns"
   ]
  },
  {
   "cell_type": "code",
   "execution_count": null,
   "id": "6db4a114",
   "metadata": {},
   "outputs": [],
   "source": []
  },
  {
   "cell_type": "code",
   "execution_count": null,
   "id": "6b917c94",
   "metadata": {},
   "outputs": [],
   "source": [
    "X_train = pd.concat([X_train['AGE'], \n",
    "                    pd.get_dummies(X_train.USMER), \n",
    "                    pd.get_dummies(X_train.MEDICAL_UNIT),\n",
    "                    pd.get_dummies(X_train.SEX), \n",
    "                    pd.get_dummies(X_train.PATIENT_TYPE),\n",
    "                    pd.get_dummies(X_train.INTUBED),\n",
    "                    pd.get_dummies(X_train.PNEUMONIA),\n",
    "                    pd.get_dummies(X_train.PREGNANT),\n",
    "                    pd.get_dummies(X_train.COPD),\n",
    "                    pd.get_dummies(X_train.INMSUPR),\n",
    "                    pd.get_dummies(X_train.OTHER_DISEASE),\n",
    "                    pd.get_dummies(X_train.HIPERTENSION),\n",
    "                    pd.get_dummies(X_train.CARDIOVASCULAR),\n",
    "                    pd.get_dummies(X_train.OBESITY),\n",
    "                    pd.get_dummies(X_train.RENAL_CHRONIC),\n",
    "                    pd.get_dummies(X_train.TOBACCO),\n",
    "                    pd.get_dummies(X_train.CLASIFFICATION_FINAL),\n",
    "                    pd.get_dummies(X_train.ICU)],\n",
    "                axis =1)"
   ]
  },
  {
   "cell_type": "code",
   "execution_count": null,
   "id": "bcdae340",
   "metadata": {
    "scrolled": true
   },
   "outputs": [],
   "source": [
    "X_train"
   ]
  },
  {
   "cell_type": "code",
   "execution_count": null,
   "id": "2daf26ef",
   "metadata": {},
   "outputs": [],
   "source": [
    "X_train"
   ]
  },
  {
   "cell_type": "code",
   "execution_count": null,
   "id": "abd2b097",
   "metadata": {},
   "outputs": [],
   "source": [
    "X_test = pd.concat([X_test['AGE'], \n",
    "                    pd.get_dummies(X_test.USMER), \n",
    "                    pd.get_dummies(X_test.MEDICAL_UNIT),\n",
    "                    pd.get_dummies(X_test.SEX), \n",
    "                    pd.get_dummies(X_test.PATIENT_TYPE),\n",
    "                    pd.get_dummies(X_test.INTUBED),\n",
    "                    pd.get_dummies(X_test.PNEUMONIA),\n",
    "                    pd.get_dummies(X_test.PREGNANT),\n",
    "                    pd.get_dummies(X_test.COPD),\n",
    "                    pd.get_dummies(X_test.INMSUPR),\n",
    "                    pd.get_dummies(X_test.OTHER_DISEASE),\n",
    "                    pd.get_dummies(X_test.HIPERTENSION),\n",
    "                    pd.get_dummies(X_test.CARDIOVASCULAR),\n",
    "                    pd.get_dummies(X_test.OBESITY),\n",
    "                    pd.get_dummies(X_test.RENAL_CHRONIC),\n",
    "                    pd.get_dummies(X_test.TOBACCO),\n",
    "                    pd.get_dummies(X_test.CLASIFFICATION_FINAL),\n",
    "                    pd.get_dummies(X_test.ICU)],\n",
    "                axis =1)"
   ]
  },
  {
   "cell_type": "code",
   "execution_count": null,
   "id": "d63a626e",
   "metadata": {},
   "outputs": [],
   "source": [
    "X_test=X_test.dropna( axis=0)\n"
   ]
  },
  {
   "cell_type": "code",
   "execution_count": null,
   "id": "456a09e3",
   "metadata": {},
   "outputs": [],
   "source": [
    "X_test"
   ]
  },
  {
   "cell_type": "code",
   "execution_count": null,
   "id": "4edea96c",
   "metadata": {},
   "outputs": [],
   "source": [
    "X_test.shape,X_train.shape,y_train.shape"
   ]
  },
  {
   "cell_type": "code",
   "execution_count": null,
   "id": "108a089b",
   "metadata": {},
   "outputs": [],
   "source": [
    "#Model training \n",
    "from sklearn.linear_model import LogisticRegression\n",
    "\n",
    "logreg = LogisticRegression(solver='liblinear', random_state=0)\n",
    "\n",
    "logreg.fit(X_train, y_train)"
   ]
  },
  {
   "cell_type": "code",
   "execution_count": null,
   "id": "aa9d85af",
   "metadata": {},
   "outputs": [],
   "source": [
    "#test data\n",
    "y_pred_test = logreg.predict(X_test)"
   ]
  },
  {
   "cell_type": "code",
   "execution_count": null,
   "id": "59cba65e",
   "metadata": {},
   "outputs": [],
   "source": [
    "y_pred_test"
   ]
  },
  {
   "cell_type": "code",
   "execution_count": null,
   "id": "c50ed7a3",
   "metadata": {},
   "outputs": [],
   "source": [
    "y_pred_train = logreg.predict(X_train)"
   ]
  },
  {
   "cell_type": "code",
   "execution_count": null,
   "id": "108f0a41",
   "metadata": {},
   "outputs": [],
   "source": [
    "y_pred_train "
   ]
  },
  {
   "cell_type": "code",
   "execution_count": null,
   "id": "20e616b8",
   "metadata": {},
   "outputs": [],
   "source": [
    "logreg.predict_proba(X_test)[:,0]"
   ]
  },
  {
   "cell_type": "code",
   "execution_count": null,
   "id": "a9bfe0e7",
   "metadata": {},
   "outputs": [],
   "source": [
    "logreg.predict_proba(X_test)[:,1]"
   ]
  },
  {
   "cell_type": "code",
   "execution_count": null,
   "id": "d3eccc6f",
   "metadata": {},
   "outputs": [],
   "source": [
    "#check for accuracy \n",
    "\n",
    "from sklearn.metrics import accuracy_score\n",
    "\n",
    "print('Model accuracy score(test): ', accuracy_score(y_test, y_pred_test))"
   ]
  },
  {
   "cell_type": "markdown",
   "id": "be71f008",
   "metadata": {},
   "source": [
    "#check for accuracy \n",
    "\n",
    "print('Model accuracy score(train): ', accuracy_score(y_train, y_pred_train))"
   ]
  },
  {
   "cell_type": "code",
   "execution_count": null,
   "id": "58ae845f",
   "metadata": {},
   "outputs": [],
   "source": [
    "y_test.value_counts()"
   ]
  },
  {
   "cell_type": "code",
   "execution_count": null,
   "id": "e9585866",
   "metadata": {},
   "outputs": [],
   "source": [
    "#check null accuracy \n",
    "null_acuracy = 44152/(len(y_test))"
   ]
  },
  {
   "cell_type": "code",
   "execution_count": null,
   "id": "45b71d40",
   "metadata": {},
   "outputs": [],
   "source": [
    "null_acuracy"
   ]
  },
  {
   "cell_type": "markdown",
   "id": "a642b23d",
   "metadata": {},
   "source": [
    "Our null accuracy is 0.84 which is less than our actual accuracy(0.90). This means our model is not just predicting  the most frequent value, but it has actually learnt"
   ]
  },
  {
   "cell_type": "markdown",
   "id": "aed817b1",
   "metadata": {},
   "source": [
    "Confusion Matrix"
   ]
  },
  {
   "cell_type": "code",
   "execution_count": null,
   "id": "9d5a2a4c",
   "metadata": {},
   "outputs": [],
   "source": [
    "from sklearn.metrics import confusion_matrix\n",
    "cm =confusion_matrix(y_test, y_pred_test)"
   ]
  },
  {
   "cell_type": "code",
   "execution_count": null,
   "id": "f64febdf",
   "metadata": {},
   "outputs": [],
   "source": [
    "cm"
   ]
  },
  {
   "cell_type": "code",
   "execution_count": null,
   "id": "2e2d3ce6",
   "metadata": {},
   "outputs": [],
   "source": [
    "print('True positives (TP) = ', cm[0,0])\n",
    "print('False positives (FP)= ', cm[0, 1])\n",
    "print('False Negatives (FN)= ', cm[1, 0])\n",
    "print('True Negatives (TN))= ', cm[1, 1])"
   ]
  },
  {
   "cell_type": "code",
   "execution_count": null,
   "id": "f9f22a57",
   "metadata": {},
   "outputs": [],
   "source": [
    "#Precision\n",
    "42543/(42543+3253)"
   ]
  },
  {
   "cell_type": "code",
   "execution_count": null,
   "id": "e74b4d9f",
   "metadata": {},
   "outputs": [],
   "source": [
    "from sklearn.metrics import classification_report\n",
    "\n",
    "#classification_report(y_test, y_pred_test)\n",
    "print(classification_report(y_test, y_pred_test))"
   ]
  },
  {
   "cell_type": "code",
   "execution_count": null,
   "id": "35a19510",
   "metadata": {},
   "outputs": [],
   "source": [
    "y_pred_prob = logreg.predict_proba(X_test)\n",
    "y_pred_prob"
   ]
  },
  {
   "cell_type": "code",
   "execution_count": null,
   "id": "d2f63f27",
   "metadata": {},
   "outputs": [],
   "source": [
    "y_pred_prob_df = pd.DataFrame(data=y_pred_prob, columns=['Probability of Death (0)',\n",
    "                                                         'Probability of Recovery (1)'])\n",
    "\n",
    "y_pred_prob_df"
   ]
  },
  {
   "cell_type": "code",
   "execution_count": null,
   "id": "54a02fa0",
   "metadata": {},
   "outputs": [],
   "source": [
    "y_pred1 = logreg.predict_proba(X_test)[:,1]\n",
    "y_pred0 = logreg.predict_proba(X_test)[:,0]"
   ]
  },
  {
   "cell_type": "code",
   "execution_count": null,
   "id": "a2f9638d",
   "metadata": {
    "scrolled": true
   },
   "outputs": [],
   "source": [
    "#plot ROC curve\n",
    "\n",
    "from sklearn.metrics import roc_curve\n",
    "\n",
    "fpr, tpr, thresholds = roc_curve(y_test, y_pred1)"
   ]
  },
  {
   "cell_type": "code",
   "execution_count": null,
   "id": "e1408312",
   "metadata": {},
   "outputs": [],
   "source": [
    "plt.figure(figsize = (6,4))\n",
    "plt.plot(fpr, tpr, linewidth=2)\n",
    "plt.plot([0,1], [0,1], '--')\n",
    "plt.title('ROC curve for Probability of Death')\n",
    "plt.xlabel('False positive rate')\n",
    "plt.ylabel('True positve rate')\n",
    "plt.show()"
   ]
  },
  {
   "cell_type": "code",
   "execution_count": null,
   "id": "fabd414b",
   "metadata": {},
   "outputs": [],
   "source": [
    "#computing AUC \n",
    "\n",
    "from sklearn.metrics import roc_auc_score\n",
    "\n",
    "ROC_AUC = roc_auc_score(y_test, y_pred1)\n",
    "\n",
    "print(ROC_AUC)"
   ]
  },
  {
   "cell_type": "markdown",
   "id": "3f3a75d1",
   "metadata": {},
   "source": [
    "Random Forest Classifier"
   ]
  },
  {
   "cell_type": "code",
   "execution_count": null,
   "id": "b38df8b1",
   "metadata": {},
   "outputs": [],
   "source": [
    "# importing random forest classifier from assemble module\n",
    "from sklearn.ensemble import RandomForestClassifier\n"
   ]
  },
  {
   "cell_type": "code",
   "execution_count": null,
   "id": "6866026e",
   "metadata": {},
   "outputs": [],
   "source": [
    "# creating a RF classifier\n",
    "clf = RandomForestClassifier(n_estimators = 100)  \n",
    "# Training the model on the training dataset\n",
    "# fit function is used to train the model using the training sets as parameters\n",
    "clf.fit(X_train, y_train)\n",
    "# performing predictions on the test dataset\n",
    "y_pred = clf.predict(X_test)\n",
    "# metrics are used to find accuracy or error\n",
    "from sklearn import metrics  \n",
    "# using metrics module for accuracy calculation\n",
    "print(\"ACCURACY OF THE MODEL: \", metrics.accuracy_score(y_test, y_pred))"
   ]
  },
  {
   "cell_type": "code",
   "execution_count": null,
   "id": "d5a1f9fc",
   "metadata": {},
   "outputs": [],
   "source": [
    "from sklearn.svm import SVC\n",
    "svc_model= SVC(kernel = 'poly')\n",
    "svc_model.fit(X_train, y_train)\n",
    "prediction= svc_model.predict(X_test)"
   ]
  },
  {
   "cell_type": "code",
   "execution_count": null,
   "id": "7f10821e",
   "metadata": {},
   "outputs": [],
   "source": [
    "print(svc_model.score(X_train, y_train))\n",
    "print(svc_model.score(X_test, y_test))"
   ]
  },
  {
   "cell_type": "code",
   "execution_count": null,
   "id": "d4807c65",
   "metadata": {},
   "outputs": [],
   "source": [
    "print('Confusion Matrix: \\n',\n",
    "     confusion_matrix(prediction, y_test))"
   ]
  },
  {
   "cell_type": "code",
   "execution_count": null,
   "id": "618a3ece",
   "metadata": {},
   "outputs": [],
   "source": [
    "# dividing the datasets into two parts i.e. training datasets and test datasets\n",
    "#X, y = datasets.load_iris( return_X_y = True)\n",
    "# Splitting arrays or matrices into random train and test subsets\n",
    "#from sklearn.model_selection import train_test_split\n",
    "# i.e. 70 % training dataset and 30 % test datasetsX_train, X_test, y_train, y_test = train_test_split(X, y, test_size = 0.30)\n"
   ]
  }
 ],
 "metadata": {
  "colab": {
   "provenance": []
  },
  "kernelspec": {
   "display_name": "Python 3 (ipykernel)",
   "language": "python",
   "name": "python3"
  },
  "language_info": {
   "codemirror_mode": {
    "name": "ipython",
    "version": 3
   },
   "file_extension": ".py",
   "mimetype": "text/x-python",
   "name": "python",
   "nbconvert_exporter": "python",
   "pygments_lexer": "ipython3",
   "version": "3.9.12"
  }
 },
 "nbformat": 4,
 "nbformat_minor": 5
}
